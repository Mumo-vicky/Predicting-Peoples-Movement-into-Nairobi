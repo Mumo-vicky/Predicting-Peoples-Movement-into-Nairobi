{
  "nbformat": 4,
  "nbformat_minor": 0,
  "metadata": {
    "colab": {
      "name": "Team_Data_Tuners: Predicting People's Movement into Nairobi",
      "provenance": [],
      "collapsed_sections": [],
      "include_colab_link": true
    },
    "kernelspec": {
      "display_name": "Python 3",
      "name": "python3"
    }
  },
  "cells": [
    {
      "cell_type": "markdown",
      "metadata": {
        "id": "view-in-github",
        "colab_type": "text"
      },
      "source": [
        "<a href=\"https://colab.research.google.com/github/joymuli10/Predicting-Peoples-Movement-into-Nairobi/blob/main/Team_Data_Tuners_Predicting_People's_Movement_into_Nairobi.ipynb\" target=\"_parent\"><img src=\"https://colab.research.google.com/assets/colab-badge.svg\" alt=\"Open In Colab\"/></a>"
      ]
    },
    {
      "cell_type": "markdown",
      "metadata": {
        "id": "3ETOAFaha6SM"
      },
      "source": [
        "**Mobiticket number-of-tickets Prediction**"
      ]
    },
    {
      "cell_type": "markdown",
      "metadata": {
        "id": "jW4-BpWZe6pU"
      },
      "source": [
        "# Defining the question "
      ]
    },
    {
      "cell_type": "markdown",
      "metadata": {
        "id": "qRL-pZ5de98T"
      },
      "source": [
        "## a). Specifying the question"
      ]
    },
    {
      "cell_type": "markdown",
      "metadata": {
        "id": "HqlqqUfRfIuB"
      },
      "source": [
        "\n",
        "\n",
        "> Build a model that predicts the number of seats that Mobiticket can expect to sell for each ride, i.e. for a specific route on a specific date and time. There are 14 routes in this dataset. All of the routes end in Nairobi and originate in towns to the North-West of Nairobi towards Lake Victoria.\n",
        "\n"
      ]
    },
    {
      "cell_type": "markdown",
      "metadata": {
        "id": "jwgiTjsUfQ9t"
      },
      "source": [
        "## b). Defining the Metric for Success"
      ]
    },
    {
      "cell_type": "markdown",
      "metadata": {
        "id": "tMlPOsLdfWUw"
      },
      "source": [
        "\n",
        "\n",
        "> Mean Absolute Error\n",
        "\n",
        "\n",
        "\n",
        "\n",
        "\n",
        "\n",
        "\n",
        "\n",
        "\n",
        "\n"
      ]
    },
    {
      "cell_type": "markdown",
      "metadata": {
        "id": "7RGuCNcufwr4"
      },
      "source": [
        "## c). Understanding the Context"
      ]
    },
    {
      "cell_type": "markdown",
      "metadata": {
        "id": "zh9l9e3Sf9wt"
      },
      "source": [
        "Traffic can act as a deterrent for those who have the option to avoid buses that arrive in Nairobi during peak traffic hours. On the other hand, traffic may be an indication for people’s movement patterns, reflecting business hours and cultural events.Mobiticket is a service to enables you book, pay and get bus tickets using your phone. Ticket reservations and payments can be done using MPESA checkout or using your mobile wallet for our partner public service bus operators.\n",
        "\n",
        "This is a model that predicts the number of seats that Mobiticket can expect to sell for each ride, i.e. for a specific route on a specific date and time. There are 14 routes in this dataset.\n",
        "\n"
      ]
    },
    {
      "cell_type": "markdown",
      "metadata": {
        "id": "iUJJO4gAf-iH"
      },
      "source": [
        "## d). Recording the Experimental Design"
      ]
    },
    {
      "cell_type": "markdown",
      "metadata": {
        "id": "jpAflJZkgDbw"
      },
      "source": [
        "\n",
        "\n",
        "> Below are the steps that will be conducted in this analysis in order to respond to the research question comprehensively:\n",
        "\n",
        "1. Load data and preview data\n",
        "2. Data Cleaning\n",
        "3. Exploratory Analysis\n",
        "4. Implementing the Solution\n",
        "5. Challenging the Solution\n",
        "6. Follow Up Question\n",
        "\n"
      ]
    },
    {
      "cell_type": "markdown",
      "metadata": {
        "id": "3R4QVTpngXgN"
      },
      "source": [
        "## e). Appropriateness of the data"
      ]
    },
    {
      "cell_type": "markdown",
      "metadata": {
        "id": "gijzRv-Tga_A"
      },
      "source": [
        "\n",
        "\n",
        "> The 2 datasets (train and test) to be used was provided by Zindi. \n",
        "\n",
        "\n",
        "> train_revised.csv (zipped) is the dataset of tickets purchased from Mobiticket for the 14 routes from “up country” into Nairobi between 17 October 2017 and 20 April 2018 It has 51645 rows and 10 columns. This dataset includes the variables: - , seat_number, payment_method, payment_receipt, travel_date, travel_time, travel_from, travel_to, car_type, max_capacity.\n",
        "\n",
        "\n",
        "\n",
        "> test_questions.csv is the dataset on which you will apply your model to estimate number of tickets sold by Mobiticket per unique ride. This dataset contains all of the rides offered on the same 14 routes during the two weeks following train.csv, i.e. 21 April 2018 to 9 May 2018. It has 1111 rows and 7 columns. The variables included in this dataset: - , travel_date, travel_time, travel_from, travel_to, car_type, max_capacity.\n",
        "\n",
        "Variables description:\n",
        "\n",
        "- ride_id: unique ID of a vehicle on a specific route on a specific day and time.\n",
        "- seat_number: seat assigned to ticket\n",
        "- payment_method: method used by customer to purchase ticket from Mobiticket (cash or Mpesa)\n",
        "- payment_receipt: unique id number for ticket purchased from Mobiticket\n",
        "- travel_date: date of ride departure. (MM/DD/YYYY)\n",
        "- travel_time: scheduled departure time of ride. Rides generally depart on time. (hh:mm)\n",
        "- travel_from: town from which ride originated\n",
        "- travel_to: destination of ride. All rides are to Nairobi.\n",
        "- car_type: vehicle type (shuttle or bus)\n",
        "- max_capacity: number of seats on the vehicle\n",
        "\n",
        "\n",
        "\n",
        "\n",
        "\n"
      ]
    },
    {
      "cell_type": "markdown",
      "metadata": {
        "id": "o0bDYX4siKA0"
      },
      "source": [
        "# Reading and Checking the Data"
      ]
    },
    {
      "cell_type": "code",
      "metadata": {
        "id": "MC5NtwqFOYXS"
      },
      "source": [
        "# Importing the needed libraries\n",
        "import pandas as pd\n",
        "import numpy as np\n",
        "import seaborn as sns\n",
        "import matplotlib.pyplot as plt\n",
        "\n",
        "import warnings  \n",
        "warnings.filterwarnings('ignore')\n"
      ],
      "execution_count": null,
      "outputs": []
    },
    {
      "cell_type": "code",
      "metadata": {
        "colab": {
          "base_uri": "https://localhost:8080/",
          "height": 224
        },
        "id": "UMaUMOyNOvfe",
        "outputId": "80bd0e52-9dfd-4803-a49e-9aebec8ba5ea"
      },
      "source": [
        "# Previewing the head of the train dataset\n",
        "\n",
        "data_train = pd.read_csv('train_revised.csv')\n",
        "data_train.head()\n"
      ],
      "execution_count": null,
      "outputs": [
        {
          "output_type": "execute_result",
          "data": {
            "text/html": [
              "<div>\n",
              "<style scoped>\n",
              "    .dataframe tbody tr th:only-of-type {\n",
              "        vertical-align: middle;\n",
              "    }\n",
              "\n",
              "    .dataframe tbody tr th {\n",
              "        vertical-align: top;\n",
              "    }\n",
              "\n",
              "    .dataframe thead th {\n",
              "        text-align: right;\n",
              "    }\n",
              "</style>\n",
              "<table border=\"1\" class=\"dataframe\">\n",
              "  <thead>\n",
              "    <tr style=\"text-align: right;\">\n",
              "      <th></th>\n",
              "      <th>ride_id</th>\n",
              "      <th>seat_number</th>\n",
              "      <th>payment_method</th>\n",
              "      <th>payment_receipt</th>\n",
              "      <th>travel_date</th>\n",
              "      <th>travel_time</th>\n",
              "      <th>travel_from</th>\n",
              "      <th>travel_to</th>\n",
              "      <th>car_type</th>\n",
              "      <th>max_capacity</th>\n",
              "    </tr>\n",
              "  </thead>\n",
              "  <tbody>\n",
              "    <tr>\n",
              "      <th>0</th>\n",
              "      <td>1442</td>\n",
              "      <td>15A</td>\n",
              "      <td>Mpesa</td>\n",
              "      <td>UZUEHCBUSO</td>\n",
              "      <td>17-10-17</td>\n",
              "      <td>7:15</td>\n",
              "      <td>Migori</td>\n",
              "      <td>Nairobi</td>\n",
              "      <td>Bus</td>\n",
              "      <td>49</td>\n",
              "    </tr>\n",
              "    <tr>\n",
              "      <th>1</th>\n",
              "      <td>5437</td>\n",
              "      <td>14A</td>\n",
              "      <td>Mpesa</td>\n",
              "      <td>TIHLBUSGTE</td>\n",
              "      <td>19-11-17</td>\n",
              "      <td>7:12</td>\n",
              "      <td>Migori</td>\n",
              "      <td>Nairobi</td>\n",
              "      <td>Bus</td>\n",
              "      <td>49</td>\n",
              "    </tr>\n",
              "    <tr>\n",
              "      <th>2</th>\n",
              "      <td>5710</td>\n",
              "      <td>8B</td>\n",
              "      <td>Mpesa</td>\n",
              "      <td>EQX8Q5G19O</td>\n",
              "      <td>26-11-17</td>\n",
              "      <td>7:05</td>\n",
              "      <td>Keroka</td>\n",
              "      <td>Nairobi</td>\n",
              "      <td>Bus</td>\n",
              "      <td>49</td>\n",
              "    </tr>\n",
              "    <tr>\n",
              "      <th>3</th>\n",
              "      <td>5777</td>\n",
              "      <td>19A</td>\n",
              "      <td>Mpesa</td>\n",
              "      <td>SGP18CL0ME</td>\n",
              "      <td>27-11-17</td>\n",
              "      <td>7:10</td>\n",
              "      <td>Homa Bay</td>\n",
              "      <td>Nairobi</td>\n",
              "      <td>Bus</td>\n",
              "      <td>49</td>\n",
              "    </tr>\n",
              "    <tr>\n",
              "      <th>4</th>\n",
              "      <td>5778</td>\n",
              "      <td>11A</td>\n",
              "      <td>Mpesa</td>\n",
              "      <td>BM97HFRGL9</td>\n",
              "      <td>27-11-17</td>\n",
              "      <td>7:12</td>\n",
              "      <td>Migori</td>\n",
              "      <td>Nairobi</td>\n",
              "      <td>Bus</td>\n",
              "      <td>49</td>\n",
              "    </tr>\n",
              "  </tbody>\n",
              "</table>\n",
              "</div>"
            ],
            "text/plain": [
              "   ride_id seat_number payment_method  ... travel_to car_type max_capacity\n",
              "0     1442         15A          Mpesa  ...   Nairobi      Bus           49\n",
              "1     5437         14A          Mpesa  ...   Nairobi      Bus           49\n",
              "2     5710          8B          Mpesa  ...   Nairobi      Bus           49\n",
              "3     5777         19A          Mpesa  ...   Nairobi      Bus           49\n",
              "4     5778         11A          Mpesa  ...   Nairobi      Bus           49\n",
              "\n",
              "[5 rows x 10 columns]"
            ]
          },
          "metadata": {
            "tags": []
          },
          "execution_count": 2
        }
      ]
    },
    {
      "cell_type": "code",
      "metadata": {
        "colab": {
          "base_uri": "https://localhost:8080/",
          "height": 204
        },
        "id": "3phJM9RdPPtK",
        "outputId": "6e231a71-28a1-4332-8318-f9d7ed4d1bf2"
      },
      "source": [
        "# Previewing the head of the test dataset\n",
        "\n",
        "data_test = pd.read_csv('test_questions.csv')\n",
        "data_test.head()"
      ],
      "execution_count": null,
      "outputs": [
        {
          "output_type": "execute_result",
          "data": {
            "text/html": [
              "<div>\n",
              "<style scoped>\n",
              "    .dataframe tbody tr th:only-of-type {\n",
              "        vertical-align: middle;\n",
              "    }\n",
              "\n",
              "    .dataframe tbody tr th {\n",
              "        vertical-align: top;\n",
              "    }\n",
              "\n",
              "    .dataframe thead th {\n",
              "        text-align: right;\n",
              "    }\n",
              "</style>\n",
              "<table border=\"1\" class=\"dataframe\">\n",
              "  <thead>\n",
              "    <tr style=\"text-align: right;\">\n",
              "      <th></th>\n",
              "      <th>ride_id</th>\n",
              "      <th>travel_date</th>\n",
              "      <th>travel_time</th>\n",
              "      <th>travel_from</th>\n",
              "      <th>travel_to</th>\n",
              "      <th>car_type</th>\n",
              "      <th>max_capacity</th>\n",
              "    </tr>\n",
              "  </thead>\n",
              "  <tbody>\n",
              "    <tr>\n",
              "      <th>0</th>\n",
              "      <td>247</td>\n",
              "      <td>2018-05-07</td>\n",
              "      <td>07:06</td>\n",
              "      <td>Kisii</td>\n",
              "      <td>Nairobi</td>\n",
              "      <td>Bus</td>\n",
              "      <td>49</td>\n",
              "    </tr>\n",
              "    <tr>\n",
              "      <th>1</th>\n",
              "      <td>256</td>\n",
              "      <td>2018-05-06</td>\n",
              "      <td>11:08</td>\n",
              "      <td>Kisii</td>\n",
              "      <td>Nairobi</td>\n",
              "      <td>shuttle</td>\n",
              "      <td>11</td>\n",
              "    </tr>\n",
              "    <tr>\n",
              "      <th>2</th>\n",
              "      <td>275</td>\n",
              "      <td>2018-05-04</td>\n",
              "      <td>05:00</td>\n",
              "      <td>Kisii</td>\n",
              "      <td>Nairobi</td>\n",
              "      <td>shuttle</td>\n",
              "      <td>11</td>\n",
              "    </tr>\n",
              "    <tr>\n",
              "      <th>3</th>\n",
              "      <td>285</td>\n",
              "      <td>2018-05-04</td>\n",
              "      <td>09:10</td>\n",
              "      <td>Kisii</td>\n",
              "      <td>Nairobi</td>\n",
              "      <td>shuttle</td>\n",
              "      <td>11</td>\n",
              "    </tr>\n",
              "    <tr>\n",
              "      <th>4</th>\n",
              "      <td>286</td>\n",
              "      <td>2018-05-04</td>\n",
              "      <td>09:20</td>\n",
              "      <td>Kisii</td>\n",
              "      <td>Nairobi</td>\n",
              "      <td>shuttle</td>\n",
              "      <td>11</td>\n",
              "    </tr>\n",
              "  </tbody>\n",
              "</table>\n",
              "</div>"
            ],
            "text/plain": [
              "   ride_id travel_date travel_time travel_from travel_to car_type  max_capacity\n",
              "0      247  2018-05-07       07:06       Kisii   Nairobi      Bus            49\n",
              "1      256  2018-05-06       11:08       Kisii   Nairobi  shuttle            11\n",
              "2      275  2018-05-04       05:00       Kisii   Nairobi  shuttle            11\n",
              "3      285  2018-05-04       09:10       Kisii   Nairobi  shuttle            11\n",
              "4      286  2018-05-04       09:20       Kisii   Nairobi  shuttle            11"
            ]
          },
          "metadata": {
            "tags": []
          },
          "execution_count": 3
        }
      ]
    },
    {
      "cell_type": "code",
      "metadata": {
        "colab": {
          "base_uri": "https://localhost:8080/"
        },
        "id": "Fj4401cpPkJG",
        "outputId": "6b21db38-ae09-42d3-b80e-92d175f46d25"
      },
      "source": [
        "# Printing the data_train columns\n",
        "\n",
        "print(data_train.columns.values)"
      ],
      "execution_count": null,
      "outputs": [
        {
          "output_type": "stream",
          "text": [
            "['ride_id' 'seat_number' 'payment_method' 'payment_receipt' 'travel_date'\n",
            " 'travel_time' 'travel_from' 'travel_to' 'car_type' 'max_capacity']\n"
          ],
          "name": "stdout"
        }
      ]
    },
    {
      "cell_type": "code",
      "metadata": {
        "colab": {
          "base_uri": "https://localhost:8080/"
        },
        "id": "mTVuAz0SPv75",
        "outputId": "1e0de208-dbe2-4ea6-fd18-00762d424c3f"
      },
      "source": [
        "# Printing the data_train columns\n",
        "\n",
        "print(data_test.columns.values)"
      ],
      "execution_count": null,
      "outputs": [
        {
          "output_type": "stream",
          "text": [
            "['ride_id' 'travel_date' 'travel_time' 'travel_from' 'travel_to'\n",
            " 'car_type' 'max_capacity']\n"
          ],
          "name": "stdout"
        }
      ]
    },
    {
      "cell_type": "code",
      "metadata": {
        "colab": {
          "base_uri": "https://localhost:8080/"
        },
        "id": "ViLOZGtLPx3B",
        "outputId": "899d8b6d-9521-4031-8abc-353bb460615e"
      },
      "source": [
        "# Checking the info of both datasets\n",
        "\n",
        "print(data_train.info())\n",
        "print(data_test.info())"
      ],
      "execution_count": null,
      "outputs": [
        {
          "output_type": "stream",
          "text": [
            "<class 'pandas.core.frame.DataFrame'>\n",
            "RangeIndex: 16453 entries, 0 to 16452\n",
            "Data columns (total 10 columns):\n",
            " #   Column           Non-Null Count  Dtype \n",
            "---  ------           --------------  ----- \n",
            " 0   ride_id          16453 non-null  int64 \n",
            " 1   seat_number      16453 non-null  object\n",
            " 2   payment_method   16453 non-null  object\n",
            " 3   payment_receipt  16453 non-null  object\n",
            " 4   travel_date      16453 non-null  object\n",
            " 5   travel_time      16453 non-null  object\n",
            " 6   travel_from      16453 non-null  object\n",
            " 7   travel_to        16453 non-null  object\n",
            " 8   car_type         16453 non-null  object\n",
            " 9   max_capacity     16453 non-null  int64 \n",
            "dtypes: int64(2), object(8)\n",
            "memory usage: 1.3+ MB\n",
            "None\n",
            "<class 'pandas.core.frame.DataFrame'>\n",
            "RangeIndex: 1111 entries, 0 to 1110\n",
            "Data columns (total 7 columns):\n",
            " #   Column        Non-Null Count  Dtype \n",
            "---  ------        --------------  ----- \n",
            " 0   ride_id       1111 non-null   int64 \n",
            " 1   travel_date   1111 non-null   object\n",
            " 2   travel_time   1111 non-null   object\n",
            " 3   travel_from   1111 non-null   object\n",
            " 4   travel_to     1111 non-null   object\n",
            " 5   car_type      1111 non-null   object\n",
            " 6   max_capacity  1111 non-null   int64 \n",
            "dtypes: int64(2), object(5)\n",
            "memory usage: 60.9+ KB\n",
            "None\n"
          ],
          "name": "stdout"
        }
      ]
    },
    {
      "cell_type": "code",
      "metadata": {
        "colab": {
          "base_uri": "https://localhost:8080/"
        },
        "id": "3vzb9XXdP6VQ",
        "outputId": "74da9af9-9db2-41b5-83ba-63460cf92d27"
      },
      "source": [
        "# Checking the number of columns and rows\n",
        "\n",
        "print('Train dataset shape: {} Rows, {} Columns'.format(*data_train.shape))\n",
        "print('Test dataset shape: {} Rows, {} Columns'.format(*data_test.shape))"
      ],
      "execution_count": null,
      "outputs": [
        {
          "output_type": "stream",
          "text": [
            "Train dataset shape: 16453 Rows, 10 Columns\n",
            "Test dataset shape: 1111 Rows, 7 Columns\n"
          ],
          "name": "stdout"
        }
      ]
    },
    {
      "cell_type": "markdown",
      "metadata": {
        "id": "eR5-XRrLkNYl"
      },
      "source": [
        "# Data Cleaning"
      ]
    },
    {
      "cell_type": "code",
      "metadata": {
        "colab": {
          "base_uri": "https://localhost:8080/"
        },
        "id": "an-N8z7yTv07",
        "outputId": "b7c38fd3-4764-4568-97dd-f41ae0ae9595"
      },
      "source": [
        "# Creating a new dataset Variable that groups the seat_number by ride_id to obtain the number of tickets \n",
        "Var=data_train.groupby([\"ride_id\"]).seat_number.count().rename(\"number_of_ticket\").reset_index()\n",
        "\n",
        "# Dropping duplicates\n",
        "train=data_train.drop_duplicates(\"ride_id\")\n",
        "\n",
        "# Dropping unnecessary columns\n",
        "train=train.drop(['payment_method', 'payment_receipt', 'seat_number'],axis=1)\n",
        "\n",
        "# Merging the train and Var datasets\n",
        "train=train.merge(Var,how=\"left\",on=\"ride_id\")\n",
        "train.shape"
      ],
      "execution_count": null,
      "outputs": [
        {
          "output_type": "execute_result",
          "data": {
            "text/plain": [
              "(2175, 8)"
            ]
          },
          "metadata": {
            "tags": []
          },
          "execution_count": 8
        }
      ]
    },
    {
      "cell_type": "code",
      "metadata": {
        "colab": {
          "base_uri": "https://localhost:8080/",
          "height": 204
        },
        "id": "TLRdUD4vewYf",
        "outputId": "f97b8850-450d-45d8-cd65-d3993139c802"
      },
      "source": [
        " train.head(5)"
      ],
      "execution_count": null,
      "outputs": [
        {
          "output_type": "execute_result",
          "data": {
            "text/html": [
              "<div>\n",
              "<style scoped>\n",
              "    .dataframe tbody tr th:only-of-type {\n",
              "        vertical-align: middle;\n",
              "    }\n",
              "\n",
              "    .dataframe tbody tr th {\n",
              "        vertical-align: top;\n",
              "    }\n",
              "\n",
              "    .dataframe thead th {\n",
              "        text-align: right;\n",
              "    }\n",
              "</style>\n",
              "<table border=\"1\" class=\"dataframe\">\n",
              "  <thead>\n",
              "    <tr style=\"text-align: right;\">\n",
              "      <th></th>\n",
              "      <th>ride_id</th>\n",
              "      <th>travel_date</th>\n",
              "      <th>travel_time</th>\n",
              "      <th>travel_from</th>\n",
              "      <th>travel_to</th>\n",
              "      <th>car_type</th>\n",
              "      <th>max_capacity</th>\n",
              "      <th>number_of_ticket</th>\n",
              "    </tr>\n",
              "  </thead>\n",
              "  <tbody>\n",
              "    <tr>\n",
              "      <th>0</th>\n",
              "      <td>1442</td>\n",
              "      <td>17-10-17</td>\n",
              "      <td>7:15</td>\n",
              "      <td>Migori</td>\n",
              "      <td>Nairobi</td>\n",
              "      <td>Bus</td>\n",
              "      <td>49</td>\n",
              "      <td>1</td>\n",
              "    </tr>\n",
              "    <tr>\n",
              "      <th>1</th>\n",
              "      <td>5437</td>\n",
              "      <td>19-11-17</td>\n",
              "      <td>7:12</td>\n",
              "      <td>Migori</td>\n",
              "      <td>Nairobi</td>\n",
              "      <td>Bus</td>\n",
              "      <td>49</td>\n",
              "      <td>1</td>\n",
              "    </tr>\n",
              "    <tr>\n",
              "      <th>2</th>\n",
              "      <td>5710</td>\n",
              "      <td>26-11-17</td>\n",
              "      <td>7:05</td>\n",
              "      <td>Keroka</td>\n",
              "      <td>Nairobi</td>\n",
              "      <td>Bus</td>\n",
              "      <td>49</td>\n",
              "      <td>1</td>\n",
              "    </tr>\n",
              "    <tr>\n",
              "      <th>3</th>\n",
              "      <td>5777</td>\n",
              "      <td>27-11-17</td>\n",
              "      <td>7:10</td>\n",
              "      <td>Homa Bay</td>\n",
              "      <td>Nairobi</td>\n",
              "      <td>Bus</td>\n",
              "      <td>49</td>\n",
              "      <td>5</td>\n",
              "    </tr>\n",
              "    <tr>\n",
              "      <th>4</th>\n",
              "      <td>5778</td>\n",
              "      <td>27-11-17</td>\n",
              "      <td>7:12</td>\n",
              "      <td>Migori</td>\n",
              "      <td>Nairobi</td>\n",
              "      <td>Bus</td>\n",
              "      <td>49</td>\n",
              "      <td>31</td>\n",
              "    </tr>\n",
              "  </tbody>\n",
              "</table>\n",
              "</div>"
            ],
            "text/plain": [
              "   ride_id travel_date travel_time  ... car_type max_capacity number_of_ticket\n",
              "0     1442    17-10-17        7:15  ...      Bus           49                1\n",
              "1     5437    19-11-17        7:12  ...      Bus           49                1\n",
              "2     5710    26-11-17        7:05  ...      Bus           49                1\n",
              "3     5777    27-11-17        7:10  ...      Bus           49                5\n",
              "4     5778    27-11-17        7:12  ...      Bus           49               31\n",
              "\n",
              "[5 rows x 8 columns]"
            ]
          },
          "metadata": {
            "tags": []
          },
          "execution_count": 9
        }
      ]
    },
    {
      "cell_type": "code",
      "metadata": {
        "colab": {
          "base_uri": "https://localhost:8080/",
          "height": 204
        },
        "id": "7h8X8c_6Tmt7",
        "outputId": "f761cda9-c735-43a3-9007-6c0939139b89"
      },
      "source": [
        "data_test.head()"
      ],
      "execution_count": null,
      "outputs": [
        {
          "output_type": "execute_result",
          "data": {
            "text/html": [
              "<div>\n",
              "<style scoped>\n",
              "    .dataframe tbody tr th:only-of-type {\n",
              "        vertical-align: middle;\n",
              "    }\n",
              "\n",
              "    .dataframe tbody tr th {\n",
              "        vertical-align: top;\n",
              "    }\n",
              "\n",
              "    .dataframe thead th {\n",
              "        text-align: right;\n",
              "    }\n",
              "</style>\n",
              "<table border=\"1\" class=\"dataframe\">\n",
              "  <thead>\n",
              "    <tr style=\"text-align: right;\">\n",
              "      <th></th>\n",
              "      <th>ride_id</th>\n",
              "      <th>travel_date</th>\n",
              "      <th>travel_time</th>\n",
              "      <th>travel_from</th>\n",
              "      <th>travel_to</th>\n",
              "      <th>car_type</th>\n",
              "      <th>max_capacity</th>\n",
              "    </tr>\n",
              "  </thead>\n",
              "  <tbody>\n",
              "    <tr>\n",
              "      <th>0</th>\n",
              "      <td>247</td>\n",
              "      <td>2018-05-07</td>\n",
              "      <td>07:06</td>\n",
              "      <td>Kisii</td>\n",
              "      <td>Nairobi</td>\n",
              "      <td>Bus</td>\n",
              "      <td>49</td>\n",
              "    </tr>\n",
              "    <tr>\n",
              "      <th>1</th>\n",
              "      <td>256</td>\n",
              "      <td>2018-05-06</td>\n",
              "      <td>11:08</td>\n",
              "      <td>Kisii</td>\n",
              "      <td>Nairobi</td>\n",
              "      <td>shuttle</td>\n",
              "      <td>11</td>\n",
              "    </tr>\n",
              "    <tr>\n",
              "      <th>2</th>\n",
              "      <td>275</td>\n",
              "      <td>2018-05-04</td>\n",
              "      <td>05:00</td>\n",
              "      <td>Kisii</td>\n",
              "      <td>Nairobi</td>\n",
              "      <td>shuttle</td>\n",
              "      <td>11</td>\n",
              "    </tr>\n",
              "    <tr>\n",
              "      <th>3</th>\n",
              "      <td>285</td>\n",
              "      <td>2018-05-04</td>\n",
              "      <td>09:10</td>\n",
              "      <td>Kisii</td>\n",
              "      <td>Nairobi</td>\n",
              "      <td>shuttle</td>\n",
              "      <td>11</td>\n",
              "    </tr>\n",
              "    <tr>\n",
              "      <th>4</th>\n",
              "      <td>286</td>\n",
              "      <td>2018-05-04</td>\n",
              "      <td>09:20</td>\n",
              "      <td>Kisii</td>\n",
              "      <td>Nairobi</td>\n",
              "      <td>shuttle</td>\n",
              "      <td>11</td>\n",
              "    </tr>\n",
              "  </tbody>\n",
              "</table>\n",
              "</div>"
            ],
            "text/plain": [
              "   ride_id travel_date travel_time travel_from travel_to car_type  max_capacity\n",
              "0      247  2018-05-07       07:06       Kisii   Nairobi      Bus            49\n",
              "1      256  2018-05-06       11:08       Kisii   Nairobi  shuttle            11\n",
              "2      275  2018-05-04       05:00       Kisii   Nairobi  shuttle            11\n",
              "3      285  2018-05-04       09:10       Kisii   Nairobi  shuttle            11\n",
              "4      286  2018-05-04       09:20       Kisii   Nairobi  shuttle            11"
            ]
          },
          "metadata": {
            "tags": []
          },
          "execution_count": 10
        }
      ]
    },
    {
      "cell_type": "code",
      "metadata": {
        "colab": {
          "base_uri": "https://localhost:8080/"
        },
        "id": "iFPVafOc7v4j",
        "outputId": "4c8de2f0-8ee9-4485-8ae3-1a6f63c910ab"
      },
      "source": [
        "# Checking for the unique values in each variable\n",
        "\n",
        "train.nunique()"
      ],
      "execution_count": null,
      "outputs": [
        {
          "output_type": "execute_result",
          "data": {
            "text/plain": [
              "ride_id             2175\n",
              "travel_date          130\n",
              "travel_time           76\n",
              "travel_from           12\n",
              "travel_to              1\n",
              "car_type               2\n",
              "max_capacity           2\n",
              "number_of_ticket      50\n",
              "dtype: int64"
            ]
          },
          "metadata": {
            "tags": []
          },
          "execution_count": 11
        }
      ]
    },
    {
      "cell_type": "code",
      "metadata": {
        "id": "NhR9uopr2enk"
      },
      "source": [
        "# fixing the date format of the test and train sets\n",
        "def add_20(x):\n",
        "    date=x.split(\"-\")\n",
        "    date[-1]=\"20\"+date[-1]\n",
        "    return \"-\".join(date)\n",
        "train[\"date\"]=(train[\"travel_date\"].apply(add_20)+\" \"+train[\"travel_time\"]).astype(str)\n",
        "data_test[\"date\"]=(data_test[\"travel_date\"]+\" \"+data_test[\"travel_time\"]).astype(str)"
      ],
      "execution_count": null,
      "outputs": []
    },
    {
      "cell_type": "code",
      "metadata": {
        "colab": {
          "base_uri": "https://localhost:8080/"
        },
        "id": "NU1Qm5vQ6oqW",
        "outputId": "6edf7480-9d4f-439f-dfa9-60a6ee9a8eeb"
      },
      "source": [
        "# adding time to the train set\n",
        "def  time_features(x): \n",
        "    x[\"date\"]=pd.to_datetime(x[\"date\"],format='%d-%m-%Y %H:%M')\n",
        "    x[\"dayofweek\"]=x[\"date\"].dt.dayofweek\n",
        "    x[\"dayofyear\"]=x[\"date\"].dt.dayofyear\n",
        "    x[\"dayofmonth\"]=x[\"date\"].dt.day\n",
        "    x[\"year_woy\"]=x[\"date\"].dt.year.astype(str)+x[\"date\"].dt.weekofyear.astype(str)\n",
        "    x[\"hour\"]=x[\"date\"].dt.hour\n",
        "    x[\"minute\"]=x[\"date\"].dt.minute\n",
        "    x[\"is_weekend\"]=x[\"dayofweek\"].apply( lambda x : 1 if x  in [5,6] else 0 )\n",
        "    x[\"year\"]=x[\"date\"].dt.year\n",
        "    x[\"quarter\"]=x[\"date\"].dt.quarter\n",
        "    x[\"month\"]=x[\"date\"].dt.month\n",
        "    \n",
        "\n",
        "    return x \n",
        "train=time_features(train)"
      ],
      "execution_count": null,
      "outputs": [
        {
          "output_type": "stream",
          "text": [
            "/usr/local/lib/python3.6/dist-packages/ipykernel_launcher.py:6: FutureWarning: Series.dt.weekofyear and Series.dt.week have been deprecated.  Please use Series.dt.isocalendar().week instead.\n",
            "  \n"
          ],
          "name": "stderr"
        }
      ]
    },
    {
      "cell_type": "code",
      "metadata": {
        "colab": {
          "base_uri": "https://localhost:8080/"
        },
        "id": "Cmo61JSQ6wIY",
        "outputId": "3a0923ba-ac52-4982-97ca-1e5381e11613"
      },
      "source": [
        "# adding time features to the test dataset\n",
        "def  time_features(x): \n",
        "    x[\"date\"]=pd.to_datetime(x[\"date\"],format='%Y-%m-%d %H:%M')\n",
        "    x[\"dayofweek\"]=x[\"date\"].dt.dayofweek\n",
        "    x[\"hour\"]=x[\"date\"].dt.hour\n",
        "    x[\"minute\"]=x[\"date\"].dt.minute\n",
        "    x[\"dayofyear\"]=x[\"date\"].dt.dayofyear\n",
        "    x[\"dayofmonth\"]=x[\"date\"].dt.day\n",
        "    x[\"is_weekend\"]=x[\"dayofweek\"].apply( lambda x : 1 if x  in [5,6] else 0 )\n",
        "    x[\"year_woy\"]=x[\"date\"].dt.year.astype(str)+x[\"date\"].dt.weekofyear.astype(str)\n",
        "    x[\"year\"]=x[\"date\"].dt.year\n",
        "    x[\"quarter\"]=x[\"date\"].dt.quarter\n",
        "    x[\"month\"]=x[\"date\"].dt.month\n",
        "    return x \n",
        "data_test=time_features(data_test)"
      ],
      "execution_count": null,
      "outputs": [
        {
          "output_type": "stream",
          "text": [
            "/usr/local/lib/python3.6/dist-packages/ipykernel_launcher.py:9: FutureWarning: Series.dt.weekofyear and Series.dt.week have been deprecated.  Please use Series.dt.isocalendar().week instead.\n",
            "  if __name__ == '__main__':\n"
          ],
          "name": "stderr"
        }
      ]
    },
    {
      "cell_type": "code",
      "metadata": {
        "colab": {
          "base_uri": "https://localhost:8080/",
          "height": 394
        },
        "id": "XGC-YYx-6-Hv",
        "outputId": "40acfcc1-cbcc-4bc8-9423-56c88c5a039e"
      },
      "source": [
        "data_test.head()"
      ],
      "execution_count": null,
      "outputs": [
        {
          "output_type": "execute_result",
          "data": {
            "text/html": [
              "<div>\n",
              "<style scoped>\n",
              "    .dataframe tbody tr th:only-of-type {\n",
              "        vertical-align: middle;\n",
              "    }\n",
              "\n",
              "    .dataframe tbody tr th {\n",
              "        vertical-align: top;\n",
              "    }\n",
              "\n",
              "    .dataframe thead th {\n",
              "        text-align: right;\n",
              "    }\n",
              "</style>\n",
              "<table border=\"1\" class=\"dataframe\">\n",
              "  <thead>\n",
              "    <tr style=\"text-align: right;\">\n",
              "      <th></th>\n",
              "      <th>ride_id</th>\n",
              "      <th>travel_date</th>\n",
              "      <th>travel_time</th>\n",
              "      <th>travel_from</th>\n",
              "      <th>travel_to</th>\n",
              "      <th>car_type</th>\n",
              "      <th>max_capacity</th>\n",
              "      <th>date</th>\n",
              "      <th>dayofweek</th>\n",
              "      <th>hour</th>\n",
              "      <th>minute</th>\n",
              "      <th>dayofyear</th>\n",
              "      <th>dayofmonth</th>\n",
              "      <th>is_weekend</th>\n",
              "      <th>year_woy</th>\n",
              "      <th>year</th>\n",
              "      <th>quarter</th>\n",
              "      <th>month</th>\n",
              "    </tr>\n",
              "  </thead>\n",
              "  <tbody>\n",
              "    <tr>\n",
              "      <th>0</th>\n",
              "      <td>247</td>\n",
              "      <td>2018-05-07</td>\n",
              "      <td>07:06</td>\n",
              "      <td>Kisii</td>\n",
              "      <td>Nairobi</td>\n",
              "      <td>Bus</td>\n",
              "      <td>49</td>\n",
              "      <td>2018-05-07 07:06:00</td>\n",
              "      <td>0</td>\n",
              "      <td>7</td>\n",
              "      <td>6</td>\n",
              "      <td>127</td>\n",
              "      <td>7</td>\n",
              "      <td>0</td>\n",
              "      <td>201819</td>\n",
              "      <td>2018</td>\n",
              "      <td>2</td>\n",
              "      <td>5</td>\n",
              "    </tr>\n",
              "    <tr>\n",
              "      <th>1</th>\n",
              "      <td>256</td>\n",
              "      <td>2018-05-06</td>\n",
              "      <td>11:08</td>\n",
              "      <td>Kisii</td>\n",
              "      <td>Nairobi</td>\n",
              "      <td>shuttle</td>\n",
              "      <td>11</td>\n",
              "      <td>2018-05-06 11:08:00</td>\n",
              "      <td>6</td>\n",
              "      <td>11</td>\n",
              "      <td>8</td>\n",
              "      <td>126</td>\n",
              "      <td>6</td>\n",
              "      <td>1</td>\n",
              "      <td>201818</td>\n",
              "      <td>2018</td>\n",
              "      <td>2</td>\n",
              "      <td>5</td>\n",
              "    </tr>\n",
              "    <tr>\n",
              "      <th>2</th>\n",
              "      <td>275</td>\n",
              "      <td>2018-05-04</td>\n",
              "      <td>05:00</td>\n",
              "      <td>Kisii</td>\n",
              "      <td>Nairobi</td>\n",
              "      <td>shuttle</td>\n",
              "      <td>11</td>\n",
              "      <td>2018-05-04 05:00:00</td>\n",
              "      <td>4</td>\n",
              "      <td>5</td>\n",
              "      <td>0</td>\n",
              "      <td>124</td>\n",
              "      <td>4</td>\n",
              "      <td>0</td>\n",
              "      <td>201818</td>\n",
              "      <td>2018</td>\n",
              "      <td>2</td>\n",
              "      <td>5</td>\n",
              "    </tr>\n",
              "    <tr>\n",
              "      <th>3</th>\n",
              "      <td>285</td>\n",
              "      <td>2018-05-04</td>\n",
              "      <td>09:10</td>\n",
              "      <td>Kisii</td>\n",
              "      <td>Nairobi</td>\n",
              "      <td>shuttle</td>\n",
              "      <td>11</td>\n",
              "      <td>2018-05-04 09:10:00</td>\n",
              "      <td>4</td>\n",
              "      <td>9</td>\n",
              "      <td>10</td>\n",
              "      <td>124</td>\n",
              "      <td>4</td>\n",
              "      <td>0</td>\n",
              "      <td>201818</td>\n",
              "      <td>2018</td>\n",
              "      <td>2</td>\n",
              "      <td>5</td>\n",
              "    </tr>\n",
              "    <tr>\n",
              "      <th>4</th>\n",
              "      <td>286</td>\n",
              "      <td>2018-05-04</td>\n",
              "      <td>09:20</td>\n",
              "      <td>Kisii</td>\n",
              "      <td>Nairobi</td>\n",
              "      <td>shuttle</td>\n",
              "      <td>11</td>\n",
              "      <td>2018-05-04 09:20:00</td>\n",
              "      <td>4</td>\n",
              "      <td>9</td>\n",
              "      <td>20</td>\n",
              "      <td>124</td>\n",
              "      <td>4</td>\n",
              "      <td>0</td>\n",
              "      <td>201818</td>\n",
              "      <td>2018</td>\n",
              "      <td>2</td>\n",
              "      <td>5</td>\n",
              "    </tr>\n",
              "  </tbody>\n",
              "</table>\n",
              "</div>"
            ],
            "text/plain": [
              "   ride_id travel_date travel_time travel_from  ... year_woy  year  quarter month\n",
              "0      247  2018-05-07       07:06       Kisii  ...   201819  2018        2     5\n",
              "1      256  2018-05-06       11:08       Kisii  ...   201818  2018        2     5\n",
              "2      275  2018-05-04       05:00       Kisii  ...   201818  2018        2     5\n",
              "3      285  2018-05-04       09:10       Kisii  ...   201818  2018        2     5\n",
              "4      286  2018-05-04       09:20       Kisii  ...   201818  2018        2     5\n",
              "\n",
              "[5 rows x 18 columns]"
            ]
          },
          "metadata": {
            "tags": []
          },
          "execution_count": 15
        }
      ]
    },
    {
      "cell_type": "code",
      "metadata": {
        "colab": {
          "base_uri": "https://localhost:8080/"
        },
        "id": "S--B8utb7J5H",
        "outputId": "27d28c29-f979-4457-bf3e-03f7f561556c"
      },
      "source": [
        "# Checking the shape\n",
        "print(train.shape)\n",
        "print(data_test.shape)"
      ],
      "execution_count": null,
      "outputs": [
        {
          "output_type": "stream",
          "text": [
            "(2175, 19)\n",
            "(1111, 18)\n"
          ],
          "name": "stdout"
        }
      ]
    },
    {
      "cell_type": "code",
      "metadata": {
        "colab": {
          "base_uri": "https://localhost:8080/"
        },
        "id": "yZ5ZPnYS7Pkn",
        "outputId": "7f3af0f6-2ace-4e37-e3fc-6d81de1ce4d9"
      },
      "source": [
        "# Checking for missing values per column in data_train\n",
        "\n",
        "train.isnull().sum()\n"
      ],
      "execution_count": null,
      "outputs": [
        {
          "output_type": "execute_result",
          "data": {
            "text/plain": [
              "ride_id             0\n",
              "travel_date         0\n",
              "travel_time         0\n",
              "travel_from         0\n",
              "travel_to           0\n",
              "car_type            0\n",
              "max_capacity        0\n",
              "number_of_ticket    0\n",
              "date                0\n",
              "dayofweek           0\n",
              "dayofyear           0\n",
              "dayofmonth          0\n",
              "year_woy            0\n",
              "hour                0\n",
              "minute              0\n",
              "is_weekend          0\n",
              "year                0\n",
              "quarter             0\n",
              "month               0\n",
              "dtype: int64"
            ]
          },
          "metadata": {
            "tags": []
          },
          "execution_count": 17
        }
      ]
    },
    {
      "cell_type": "markdown",
      "metadata": {
        "id": "qD7yxsuT0Sc4"
      },
      "source": [
        "No missing values in the train set"
      ]
    },
    {
      "cell_type": "code",
      "metadata": {
        "colab": {
          "base_uri": "https://localhost:8080/"
        },
        "id": "K0xr2iby3rzt",
        "outputId": "55d4901e-85ab-4e9c-d99c-fca777c14186"
      },
      "source": [
        "# Checking for missing values per column in data_train\n",
        "\n",
        "data_test.isnull().sum()"
      ],
      "execution_count": null,
      "outputs": [
        {
          "output_type": "execute_result",
          "data": {
            "text/plain": [
              "ride_id         0\n",
              "travel_date     0\n",
              "travel_time     0\n",
              "travel_from     0\n",
              "travel_to       0\n",
              "car_type        0\n",
              "max_capacity    0\n",
              "date            0\n",
              "dayofweek       0\n",
              "hour            0\n",
              "minute          0\n",
              "dayofyear       0\n",
              "dayofmonth      0\n",
              "is_weekend      0\n",
              "year_woy        0\n",
              "year            0\n",
              "quarter         0\n",
              "month           0\n",
              "dtype: int64"
            ]
          },
          "metadata": {
            "tags": []
          },
          "execution_count": 18
        }
      ]
    },
    {
      "cell_type": "markdown",
      "metadata": {
        "id": "kZkN8kP40K-_"
      },
      "source": [
        "No missing values in the test set"
      ]
    },
    {
      "cell_type": "code",
      "metadata": {
        "colab": {
          "base_uri": "https://localhost:8080/"
        },
        "id": "_pIen8j_3uEV",
        "outputId": "65fb6d57-33c6-4a4b-da78-493c58001fed"
      },
      "source": [
        "# Checking for duplicated entries\n",
        "\n",
        "data_train.duplicated().sum()"
      ],
      "execution_count": null,
      "outputs": [
        {
          "output_type": "execute_result",
          "data": {
            "text/plain": [
              "0"
            ]
          },
          "metadata": {
            "tags": []
          },
          "execution_count": 19
        }
      ]
    },
    {
      "cell_type": "markdown",
      "metadata": {
        "id": "w4blMhAOyPJT"
      },
      "source": [
        "No duplicates in the train set"
      ]
    },
    {
      "cell_type": "code",
      "metadata": {
        "colab": {
          "base_uri": "https://localhost:8080/"
        },
        "id": "7jCU4nVq4DP8",
        "outputId": "1bde3af9-5cd2-4a84-f47a-a97ff942e105"
      },
      "source": [
        "# Checking for duplicated entries\n",
        "\n",
        "data_test.duplicated().sum()\n",
        "\n",
        "# Absence of duplicates"
      ],
      "execution_count": null,
      "outputs": [
        {
          "output_type": "execute_result",
          "data": {
            "text/plain": [
              "0"
            ]
          },
          "metadata": {
            "tags": []
          },
          "execution_count": 20
        }
      ]
    },
    {
      "cell_type": "markdown",
      "metadata": {
        "id": "zC88uMfbyWoN"
      },
      "source": [
        "No duplicates in the test set"
      ]
    },
    {
      "cell_type": "code",
      "metadata": {
        "colab": {
          "base_uri": "https://localhost:8080/"
        },
        "id": "ztO48HE_BvpP",
        "outputId": "9c72c5cd-16c6-419d-de7b-2db7adf679bf"
      },
      "source": [
        "# checking where the number of tickets sold per ride are greator than the max_capacity of the car_type\n",
        "check = train['number_of_ticket'] > train['max_capacity']\n",
        "check.value_counts()"
      ],
      "execution_count": null,
      "outputs": [
        {
          "output_type": "execute_result",
          "data": {
            "text/plain": [
              "False    2170\n",
              "True        5\n",
              "dtype: int64"
            ]
          },
          "metadata": {
            "tags": []
          },
          "execution_count": 21
        }
      ]
    },
    {
      "cell_type": "code",
      "metadata": {
        "colab": {
          "base_uri": "https://localhost:8080/",
          "height": 779
        },
        "id": "EPSaOrA6BpXA",
        "outputId": "3a3985a3-3c6f-49e6-e931-24686e3af4ec"
      },
      "source": [
        "# dropping the rows where number_of_tickets is > than max_capacity\n",
        "train = train[train['number_of_ticket'] <= train['max_capacity']] \n",
        "train"
      ],
      "execution_count": null,
      "outputs": [
        {
          "output_type": "execute_result",
          "data": {
            "text/html": [
              "<div>\n",
              "<style scoped>\n",
              "    .dataframe tbody tr th:only-of-type {\n",
              "        vertical-align: middle;\n",
              "    }\n",
              "\n",
              "    .dataframe tbody tr th {\n",
              "        vertical-align: top;\n",
              "    }\n",
              "\n",
              "    .dataframe thead th {\n",
              "        text-align: right;\n",
              "    }\n",
              "</style>\n",
              "<table border=\"1\" class=\"dataframe\">\n",
              "  <thead>\n",
              "    <tr style=\"text-align: right;\">\n",
              "      <th></th>\n",
              "      <th>ride_id</th>\n",
              "      <th>travel_date</th>\n",
              "      <th>travel_time</th>\n",
              "      <th>travel_from</th>\n",
              "      <th>travel_to</th>\n",
              "      <th>car_type</th>\n",
              "      <th>max_capacity</th>\n",
              "      <th>number_of_ticket</th>\n",
              "      <th>date</th>\n",
              "      <th>dayofweek</th>\n",
              "      <th>dayofyear</th>\n",
              "      <th>dayofmonth</th>\n",
              "      <th>year_woy</th>\n",
              "      <th>hour</th>\n",
              "      <th>minute</th>\n",
              "      <th>is_weekend</th>\n",
              "      <th>year</th>\n",
              "      <th>quarter</th>\n",
              "      <th>month</th>\n",
              "    </tr>\n",
              "  </thead>\n",
              "  <tbody>\n",
              "    <tr>\n",
              "      <th>0</th>\n",
              "      <td>1442</td>\n",
              "      <td>17-10-17</td>\n",
              "      <td>7:15</td>\n",
              "      <td>Migori</td>\n",
              "      <td>Nairobi</td>\n",
              "      <td>Bus</td>\n",
              "      <td>49</td>\n",
              "      <td>1</td>\n",
              "      <td>2017-10-17 07:15:00</td>\n",
              "      <td>1</td>\n",
              "      <td>290</td>\n",
              "      <td>17</td>\n",
              "      <td>201742</td>\n",
              "      <td>7</td>\n",
              "      <td>15</td>\n",
              "      <td>0</td>\n",
              "      <td>2017</td>\n",
              "      <td>4</td>\n",
              "      <td>10</td>\n",
              "    </tr>\n",
              "    <tr>\n",
              "      <th>1</th>\n",
              "      <td>5437</td>\n",
              "      <td>19-11-17</td>\n",
              "      <td>7:12</td>\n",
              "      <td>Migori</td>\n",
              "      <td>Nairobi</td>\n",
              "      <td>Bus</td>\n",
              "      <td>49</td>\n",
              "      <td>1</td>\n",
              "      <td>2017-11-19 07:12:00</td>\n",
              "      <td>6</td>\n",
              "      <td>323</td>\n",
              "      <td>19</td>\n",
              "      <td>201746</td>\n",
              "      <td>7</td>\n",
              "      <td>12</td>\n",
              "      <td>1</td>\n",
              "      <td>2017</td>\n",
              "      <td>4</td>\n",
              "      <td>11</td>\n",
              "    </tr>\n",
              "    <tr>\n",
              "      <th>2</th>\n",
              "      <td>5710</td>\n",
              "      <td>26-11-17</td>\n",
              "      <td>7:05</td>\n",
              "      <td>Keroka</td>\n",
              "      <td>Nairobi</td>\n",
              "      <td>Bus</td>\n",
              "      <td>49</td>\n",
              "      <td>1</td>\n",
              "      <td>2017-11-26 07:05:00</td>\n",
              "      <td>6</td>\n",
              "      <td>330</td>\n",
              "      <td>26</td>\n",
              "      <td>201747</td>\n",
              "      <td>7</td>\n",
              "      <td>5</td>\n",
              "      <td>1</td>\n",
              "      <td>2017</td>\n",
              "      <td>4</td>\n",
              "      <td>11</td>\n",
              "    </tr>\n",
              "    <tr>\n",
              "      <th>3</th>\n",
              "      <td>5777</td>\n",
              "      <td>27-11-17</td>\n",
              "      <td>7:10</td>\n",
              "      <td>Homa Bay</td>\n",
              "      <td>Nairobi</td>\n",
              "      <td>Bus</td>\n",
              "      <td>49</td>\n",
              "      <td>5</td>\n",
              "      <td>2017-11-27 07:10:00</td>\n",
              "      <td>0</td>\n",
              "      <td>331</td>\n",
              "      <td>27</td>\n",
              "      <td>201748</td>\n",
              "      <td>7</td>\n",
              "      <td>10</td>\n",
              "      <td>0</td>\n",
              "      <td>2017</td>\n",
              "      <td>4</td>\n",
              "      <td>11</td>\n",
              "    </tr>\n",
              "    <tr>\n",
              "      <th>4</th>\n",
              "      <td>5778</td>\n",
              "      <td>27-11-17</td>\n",
              "      <td>7:12</td>\n",
              "      <td>Migori</td>\n",
              "      <td>Nairobi</td>\n",
              "      <td>Bus</td>\n",
              "      <td>49</td>\n",
              "      <td>31</td>\n",
              "      <td>2017-11-27 07:12:00</td>\n",
              "      <td>0</td>\n",
              "      <td>331</td>\n",
              "      <td>27</td>\n",
              "      <td>201748</td>\n",
              "      <td>7</td>\n",
              "      <td>12</td>\n",
              "      <td>0</td>\n",
              "      <td>2017</td>\n",
              "      <td>4</td>\n",
              "      <td>11</td>\n",
              "    </tr>\n",
              "    <tr>\n",
              "      <th>...</th>\n",
              "      <td>...</td>\n",
              "      <td>...</td>\n",
              "      <td>...</td>\n",
              "      <td>...</td>\n",
              "      <td>...</td>\n",
              "      <td>...</td>\n",
              "      <td>...</td>\n",
              "      <td>...</td>\n",
              "      <td>...</td>\n",
              "      <td>...</td>\n",
              "      <td>...</td>\n",
              "      <td>...</td>\n",
              "      <td>...</td>\n",
              "      <td>...</td>\n",
              "      <td>...</td>\n",
              "      <td>...</td>\n",
              "      <td>...</td>\n",
              "      <td>...</td>\n",
              "      <td>...</td>\n",
              "    </tr>\n",
              "    <tr>\n",
              "      <th>2170</th>\n",
              "      <td>8777</td>\n",
              "      <td>04-02-18</td>\n",
              "      <td>10:30</td>\n",
              "      <td>Kisii</td>\n",
              "      <td>Nairobi</td>\n",
              "      <td>shuttle</td>\n",
              "      <td>11</td>\n",
              "      <td>11</td>\n",
              "      <td>2018-02-04 10:30:00</td>\n",
              "      <td>6</td>\n",
              "      <td>35</td>\n",
              "      <td>4</td>\n",
              "      <td>20185</td>\n",
              "      <td>10</td>\n",
              "      <td>30</td>\n",
              "      <td>1</td>\n",
              "      <td>2018</td>\n",
              "      <td>1</td>\n",
              "      <td>2</td>\n",
              "    </tr>\n",
              "    <tr>\n",
              "      <th>2171</th>\n",
              "      <td>8778</td>\n",
              "      <td>04-02-18</td>\n",
              "      <td>10:20</td>\n",
              "      <td>Kisii</td>\n",
              "      <td>Nairobi</td>\n",
              "      <td>shuttle</td>\n",
              "      <td>11</td>\n",
              "      <td>10</td>\n",
              "      <td>2018-02-04 10:20:00</td>\n",
              "      <td>6</td>\n",
              "      <td>35</td>\n",
              "      <td>4</td>\n",
              "      <td>20185</td>\n",
              "      <td>10</td>\n",
              "      <td>20</td>\n",
              "      <td>1</td>\n",
              "      <td>2018</td>\n",
              "      <td>1</td>\n",
              "      <td>2</td>\n",
              "    </tr>\n",
              "    <tr>\n",
              "      <th>2172</th>\n",
              "      <td>8779</td>\n",
              "      <td>04-02-18</td>\n",
              "      <td>10:10</td>\n",
              "      <td>Kisii</td>\n",
              "      <td>Nairobi</td>\n",
              "      <td>shuttle</td>\n",
              "      <td>11</td>\n",
              "      <td>4</td>\n",
              "      <td>2018-02-04 10:10:00</td>\n",
              "      <td>6</td>\n",
              "      <td>35</td>\n",
              "      <td>4</td>\n",
              "      <td>20185</td>\n",
              "      <td>10</td>\n",
              "      <td>10</td>\n",
              "      <td>1</td>\n",
              "      <td>2018</td>\n",
              "      <td>1</td>\n",
              "      <td>2</td>\n",
              "    </tr>\n",
              "    <tr>\n",
              "      <th>2173</th>\n",
              "      <td>8780</td>\n",
              "      <td>04-02-18</td>\n",
              "      <td>10:00</td>\n",
              "      <td>Kisii</td>\n",
              "      <td>Nairobi</td>\n",
              "      <td>shuttle</td>\n",
              "      <td>11</td>\n",
              "      <td>1</td>\n",
              "      <td>2018-02-04 10:00:00</td>\n",
              "      <td>6</td>\n",
              "      <td>35</td>\n",
              "      <td>4</td>\n",
              "      <td>20185</td>\n",
              "      <td>10</td>\n",
              "      <td>0</td>\n",
              "      <td>1</td>\n",
              "      <td>2018</td>\n",
              "      <td>1</td>\n",
              "      <td>2</td>\n",
              "    </tr>\n",
              "    <tr>\n",
              "      <th>2174</th>\n",
              "      <td>8781</td>\n",
              "      <td>04-02-18</td>\n",
              "      <td>8:20</td>\n",
              "      <td>Kisii</td>\n",
              "      <td>Nairobi</td>\n",
              "      <td>shuttle</td>\n",
              "      <td>11</td>\n",
              "      <td>1</td>\n",
              "      <td>2018-02-04 08:20:00</td>\n",
              "      <td>6</td>\n",
              "      <td>35</td>\n",
              "      <td>4</td>\n",
              "      <td>20185</td>\n",
              "      <td>8</td>\n",
              "      <td>20</td>\n",
              "      <td>1</td>\n",
              "      <td>2018</td>\n",
              "      <td>1</td>\n",
              "      <td>2</td>\n",
              "    </tr>\n",
              "  </tbody>\n",
              "</table>\n",
              "<p>2170 rows × 19 columns</p>\n",
              "</div>"
            ],
            "text/plain": [
              "      ride_id travel_date travel_time  ...  year quarter month\n",
              "0        1442    17-10-17        7:15  ...  2017       4    10\n",
              "1        5437    19-11-17        7:12  ...  2017       4    11\n",
              "2        5710    26-11-17        7:05  ...  2017       4    11\n",
              "3        5777    27-11-17        7:10  ...  2017       4    11\n",
              "4        5778    27-11-17        7:12  ...  2017       4    11\n",
              "...       ...         ...         ...  ...   ...     ...   ...\n",
              "2170     8777    04-02-18       10:30  ...  2018       1     2\n",
              "2171     8778    04-02-18       10:20  ...  2018       1     2\n",
              "2172     8779    04-02-18       10:10  ...  2018       1     2\n",
              "2173     8780    04-02-18       10:00  ...  2018       1     2\n",
              "2174     8781    04-02-18        8:20  ...  2018       1     2\n",
              "\n",
              "[2170 rows x 19 columns]"
            ]
          },
          "metadata": {
            "tags": []
          },
          "execution_count": 22
        }
      ]
    },
    {
      "cell_type": "markdown",
      "metadata": {
        "id": "IimJPLxg4kFE"
      },
      "source": [
        "# Exploratory Data Analysis"
      ]
    },
    {
      "cell_type": "markdown",
      "metadata": {
        "id": "URPya9DmhZuJ"
      },
      "source": [
        "\n",
        "\n",
        "> Traffic can act as a deterrent for those who have the option to avoid buses that arrive in Nairobi during peak traffic hours. On the other hand, traffic may be an indication for people’s movement patterns, reflecting business hours, cultural events, political events, and holidays.\n",
        "\n"
      ]
    },
    {
      "cell_type": "code",
      "metadata": {
        "colab": {
          "base_uri": "https://localhost:8080/",
          "height": 514
        },
        "id": "3DU_QIvW6jlh",
        "outputId": "51ea29c1-6544-415a-a210-ef381787d9e9"
      },
      "source": [
        "# Checking for outliers using boxplots\n",
        "\n",
        "plt.figure(figsize=(12,8))\n",
        "sns.boxplot(x = 'car_type', y = 'number_of_ticket', data=train,showmeans=True)"
      ],
      "execution_count": null,
      "outputs": [
        {
          "output_type": "execute_result",
          "data": {
            "text/plain": [
              "<matplotlib.axes._subplots.AxesSubplot at 0x7f41f542a5c0>"
            ]
          },
          "metadata": {
            "tags": []
          },
          "execution_count": 23
        },
        {
          "output_type": "display_data",
          "data": {
            "image/png": "[encoded data removed]",
            "text/plain": [
              "<Figure size 864x576 with 1 Axes>"
            ]
          },
          "metadata": {
            "tags": [],
            "needs_background": "light"
          }
        }
      ]
    },
    {
      "cell_type": "code",
      "metadata": {
        "colab": {
          "base_uri": "https://localhost:8080/",
          "height": 415
        },
        "id": "NuxlYXeOPUvw",
        "outputId": "b23459ef-f890-49e5-b004-34622c7d4359"
      },
      "source": [
        "# exploring the car type variable\n",
        "sns.catplot(x=\"car_type\", kind=\"count\", data= train)\n",
        "plt.title('Car_type catplot')\n"
      ],
      "execution_count": null,
      "outputs": [
        {
          "output_type": "execute_result",
          "data": {
            "text/plain": [
              "Text(0.5, 1.0, 'Car_type catplot')"
            ]
          },
          "metadata": {
            "tags": []
          },
          "execution_count": 26
        },
        {
          "output_type": "display_data",
          "data": {
            "image/png": "[encoded data removed]",
            "text/plain": [
              "<Figure size 360x360 with 1 Axes>"
            ]
          },
          "metadata": {
            "tags": [],
            "needs_background": "light"
          }
        }
      ]
    },
    {
      "cell_type": "markdown",
      "metadata": {
        "id": "mL-aWy3Vy4jy"
      },
      "source": [
        "Most trips used shuttle car_types"
      ]
    },
    {
      "cell_type": "code",
      "metadata": {
        "colab": {
          "base_uri": "https://localhost:8080/",
          "height": 417
        },
        "id": "eFUssd9IeVcM",
        "outputId": "dc38141f-8eea-4439-9baa-6bc104b9b32f"
      },
      "source": [
        "# exploring the car type variable\n",
        "sns.catplot(x=\"is_weekend\", kind=\"count\", data= train)\n",
        "plt.title('Day of week')"
      ],
      "execution_count": null,
      "outputs": [
        {
          "output_type": "execute_result",
          "data": {
            "text/plain": [
              "Text(0.5, 1.0, 'Day of week')"
            ]
          },
          "metadata": {
            "tags": []
          },
          "execution_count": 27
        },
        {
          "output_type": "display_data",
          "data": {
            "image/png": "[encoded data removed]",
            "text/plain": [
              "<Figure size 360x360 with 1 Axes>"
            ]
          },
          "metadata": {
            "tags": [],
            "needs_background": "light"
          }
        }
      ]
    },
    {
      "cell_type": "markdown",
      "metadata": {
        "id": "SgHv1Mz4zKb9"
      },
      "source": [
        "Weekdays have more rides than weekends"
      ]
    },
    {
      "cell_type": "code",
      "metadata": {
        "colab": {
          "base_uri": "https://localhost:8080/",
          "height": 329
        },
        "id": "OaCBNI7X_eaR",
        "outputId": "e40831d6-b6ea-4fc1-8b00-109c3c4e857d"
      },
      "source": [
        "# Plottin the bar graphs\n",
        "data_test.travel_from.value_counts(normalize=True).plot(kind = 'bar')"
      ],
      "execution_count": null,
      "outputs": [
        {
          "output_type": "execute_result",
          "data": {
            "text/plain": [
              "<matplotlib.axes._subplots.AxesSubplot at 0x7f41d2d74278>"
            ]
          },
          "metadata": {
            "tags": []
          },
          "execution_count": 28
        },
        {
          "output_type": "display_data",
          "data": {
            "image/png": "[encoded data removed]",
            "text/plain": [
              "<Figure size 432x288 with 1 Axes>"
            ]
          },
          "metadata": {
            "tags": [],
            "needs_background": "light"
          }
        }
      ]
    },
    {
      "cell_type": "markdown",
      "metadata": {
        "id": "jkUIWpIwzXtN"
      },
      "source": [
        "Most travellers come from Kisii followed by Rongo and Kijauri"
      ]
    },
    {
      "cell_type": "code",
      "metadata": {
        "colab": {
          "base_uri": "https://localhost:8080/",
          "height": 313
        },
        "id": "zWJucyRQI_hv",
        "outputId": "0d65f744-47fd-402f-a18a-7f098efcafbe"
      },
      "source": [
        "#Plot number of ticket distribution \n",
        "sns.histplot(train['number_of_ticket'], bins=10)\n",
        "plt.title('number of tickets')"
      ],
      "execution_count": null,
      "outputs": [
        {
          "output_type": "execute_result",
          "data": {
            "text/plain": [
              "Text(0.5, 1.0, 'number of tickets')"
            ]
          },
          "metadata": {
            "tags": []
          },
          "execution_count": 34
        },
        {
          "output_type": "display_data",
          "data": {
            "image/png": "[encoded data removed]",
            "text/plain": [
              "<Figure size 432x288 with 1 Axes>"
            ]
          },
          "metadata": {
            "tags": [],
            "needs_background": "light"
          }
        }
      ]
    },
    {
      "cell_type": "markdown",
      "metadata": {
        "id": "Ncx2Agdxzjyc"
      },
      "source": [
        "The number of tickets sold do not follow a normal distribution. Skewed to the left"
      ]
    },
    {
      "cell_type": "code",
      "metadata": {
        "colab": {
          "base_uri": "https://localhost:8080/"
        },
        "id": "G4UgjlZrR7O5",
        "outputId": "f960f6e9-bc15-4695-a718-b30ef4c7b3aa"
      },
      "source": [
        "# checking for skewness in the target variable\n",
        "train['number_of_ticket'].skew()"
      ],
      "execution_count": null,
      "outputs": [
        {
          "output_type": "execute_result",
          "data": {
            "text/plain": [
              "2.3657659847206856"
            ]
          },
          "metadata": {
            "tags": []
          },
          "execution_count": 35
        }
      ]
    },
    {
      "cell_type": "code",
      "metadata": {
        "colab": {
          "base_uri": "https://localhost:8080/"
        },
        "id": "31DLExcOSCRX",
        "outputId": "c11ae5c5-d058-4c84-b0eb-0223efa4af85"
      },
      "source": [
        "# kurtosis\n",
        "train['number_of_ticket'].kurt()"
      ],
      "execution_count": null,
      "outputs": [
        {
          "output_type": "execute_result",
          "data": {
            "text/plain": [
              "7.476411013173974"
            ]
          },
          "metadata": {
            "tags": []
          },
          "execution_count": 36
        }
      ]
    },
    {
      "cell_type": "code",
      "metadata": {
        "id": "sPYGlExHSOdO"
      },
      "source": [
        "# Grouping the categorical features\n",
        "categorical_features=[\"travel_from\",\"car_type\",\"dayofweek\",\"dayofmonth\",\"hour\",\"minute\",\"year\"]"
      ],
      "execution_count": null,
      "outputs": []
    },
    {
      "cell_type": "code",
      "metadata": {
        "colab": {
          "base_uri": "https://localhost:8080/",
          "height": 1000
        },
        "id": "go3cuXJjYCrV",
        "outputId": "16d82786-c272-4b68-c9dc-3dc18f5ea920"
      },
      "source": [
        "# plotting count plots of the categorical variables\n",
        "def plot_categorical_feature(feature):\n",
        "    fig, axes = plt.subplots(nrows=1, ncols=2)\n",
        "    train.groupby(feature).number_of_ticket.mean().plot(kind=\"bar\",ax=axes[0],figsize=(20,5),title=\"mean of number_of_ticket per {}\".format(feature))\n",
        "    train.groupby(feature).number_of_ticket.count().plot(kind=\"bar\",ax=axes[1],figsize=(20,5),title=\"ride count per {}\".format(feature))    \n",
        "    plt.show()\n",
        "for feature in categorical_features : \n",
        "    plot_categorical_feature(feature)"
      ],
      "execution_count": null,
      "outputs": [
        {
          "output_type": "display_data",
          "data": {
            "image/png": "[encoded data removed]",
            "text/plain": [
              "<Figure size 1440x360 with 2 Axes>"
            ]
          },
          "metadata": {
            "tags": [],
            "needs_background": "light"
          }
        },
        {
          "output_type": "display_data",
          "data": {
            "image/png": "[encoded data removed]",
            "text/plain": [
              "<Figure size 1440x360 with 2 Axes>"
            ]
          },
          "metadata": {
            "tags": [],
            "needs_background": "light"
          }
        },
        {
          "output_type": "display_data",
          "data": {
            "image/png": "[encoded data removed]",
            "text/plain": [
              "<Figure size 1440x360 with 2 Axes>"
            ]
          },
          "metadata": {
            "tags": [],
            "needs_background": "light"
          }
        },
        {
          "output_type": "display_data",
          "data": {
            "image/png": "[encoded data removed]",
            "text/plain": [
              "<Figure size 1440x360 with 2 Axes>"
            ]
          },
          "metadata": {
            "tags": [],
            "needs_background": "light"
          }
        },
        {
          "output_type": "display_data",
          "data": {
            "image/png": "[encoded data removed]",
            "text/plain": [
              "<Figure size 1440x360 with 2 Axes>"
            ]
          },
          "metadata": {
            "tags": [],
            "needs_background": "light"
          }
        },
        {
          "output_type": "display_data",
          "data": {
            "image/png": "[encoded data removed]",
            "text/plain": [
              "<Figure size 1440x360 with 2 Axes>"
            ]
          },
          "metadata": {
            "tags": [],
            "needs_background": "light"
          }
        },
        {
          "output_type": "display_data",
          "data": {
            "image/png": "[encoded data removed]",
            "text/plain": [
              "<Figure size 1440x360 with 2 Axes>"
            ]
          },
          "metadata": {
            "tags": [],
            "needs_background": "light"
          }
        }
      ]
    },
    {
      "cell_type": "code",
      "metadata": {
        "colab": {
          "base_uri": "https://localhost:8080/",
          "height": 407
        },
        "id": "BGHvWn5YY5k6",
        "outputId": "56c96589-d094-4bdd-bf23-2ed279246b83"
      },
      "source": [
        "# Determine correlation between numeric features\n",
        "sns.pairplot(train[['dayofweek','number_of_ticket']])\n",
        "plt.title('Day of the week vs number of tickets')"
      ],
      "execution_count": null,
      "outputs": [
        {
          "output_type": "execute_result",
          "data": {
            "text/plain": [
              "Text(0.5, 1.0, 'Day of the week vs number of tickets')"
            ]
          },
          "metadata": {
            "tags": []
          },
          "execution_count": 39
        },
        {
          "output_type": "display_data",
          "data": {
            "image/png": "[encoded data removed]",
            "text/plain": [
              "<Figure size 360x360 with 6 Axes>"
            ]
          },
          "metadata": {
            "tags": [],
            "needs_background": "light"
          }
        }
      ]
    },
    {
      "cell_type": "code",
      "metadata": {
        "colab": {
          "base_uri": "https://localhost:8080/",
          "height": 407
        },
        "id": "stU1kqqcY5hE",
        "outputId": "ef59699f-115a-477e-d13b-87907e123179"
      },
      "source": [
        "# Determine correlation between numeric features\n",
        "sns.pairplot(train[['hour','number_of_ticket']])\n",
        "plt.title('hour vs number of tickets')"
      ],
      "execution_count": null,
      "outputs": [
        {
          "output_type": "execute_result",
          "data": {
            "text/plain": [
              "Text(0.5, 1.0, 'hour vs number of tickets')"
            ]
          },
          "metadata": {
            "tags": []
          },
          "execution_count": 40
        },
        {
          "output_type": "display_data",
          "data": {
            "image/png": "[encoded data removed]",
            "text/plain": [
              "<Figure size 360x360 with 6 Axes>"
            ]
          },
          "metadata": {
            "tags": [],
            "needs_background": "light"
          }
        }
      ]
    },
    {
      "cell_type": "code",
      "metadata": {
        "id": "p4NzjwxBSEt1"
      },
      "source": [
        "# label encoding categorical variables\n",
        "from sklearn.preprocessing import LabelEncoder\n",
        "train['travel_from'] = LabelEncoder().fit_transform(train['travel_from'])\n",
        "train['car_type'] = LabelEncoder().fit_transform(train['car_type'])"
      ],
      "execution_count": null,
      "outputs": []
    },
    {
      "cell_type": "code",
      "metadata": {
        "colab": {
          "base_uri": "https://localhost:8080/",
          "height": 563
        },
        "id": "mstjI0XcTSsW",
        "outputId": "07b2d8ed-d89f-4fa3-efb8-de9c9f0f85e6"
      },
      "source": [
        "# plotting a heatmap to identify correlated features\n",
        "plt.figure(figsize=(12,8))\n",
        "sns.heatmap(train.corr(), annot=True, cmap=\"RdYlGn\", square=True, mask=np.triu(train.corr(), k=1))\n",
        "plt.show()"
      ],
      "execution_count": null,
      "outputs": [
        {
          "output_type": "display_data",
          "data": {
            "image/png": "[encoded data removed]",
            "text/plain": [
              "<Figure size 864x576 with 2 Axes>"
            ]
          },
          "metadata": {
            "tags": [],
            "needs_background": "light"
          }
        }
      ]
    },
    {
      "cell_type": "markdown",
      "metadata": {
        "id": "_PqIOOjFTh0X"
      },
      "source": [
        "We are going to ignore the correlated features as we aren't going to be using all of them."
      ]
    },
    {
      "cell_type": "markdown",
      "metadata": {
        "id": "tovZNYLxzfjP"
      },
      "source": [
        "## **Baseline Model**"
      ]
    },
    {
      "cell_type": "code",
      "metadata": {
        "id": "8BKcmvp4dUri"
      },
      "source": [
        "test = data_test"
      ],
      "execution_count": null,
      "outputs": []
    },
    {
      "cell_type": "code",
      "metadata": {
        "colab": {
          "base_uri": "https://localhost:8080/"
        },
        "id": "mbYHcXkN1yqI",
        "outputId": "907a2e56-6075-440b-9b0b-4ed74d4c9ac5"
      },
      "source": [
        "train.columns"
      ],
      "execution_count": null,
      "outputs": [
        {
          "output_type": "execute_result",
          "data": {
            "text/plain": [
              "Index(['ride_id', 'travel_date', 'travel_time', 'travel_from', 'travel_to',\n",
              "       'car_type', 'max_capacity', 'number_of_ticket', 'date', 'dayofweek',\n",
              "       'dayofyear', 'dayofmonth', 'year_woy', 'hour', 'minute', 'is_weekend',\n",
              "       'year', 'quarter', 'month'],\n",
              "      dtype='object')"
            ]
          },
          "metadata": {
            "tags": []
          },
          "execution_count": 46
        }
      ]
    },
    {
      "cell_type": "code",
      "metadata": {
        "colab": {
          "base_uri": "https://localhost:8080/",
          "height": 204
        },
        "id": "T4hVGXme0mJq",
        "outputId": "f4470efa-a7bf-4e85-b38e-6bcf6415d80e"
      },
      "source": [
        "train_new = train[['ride_id','travel_from','car_type','max_capacity','dayofweek','hour','month','number_of_ticket']]\n",
        "train_new.head()"
      ],
      "execution_count": null,
      "outputs": [
        {
          "output_type": "execute_result",
          "data": {
            "text/html": [
              "<div>\n",
              "<style scoped>\n",
              "    .dataframe tbody tr th:only-of-type {\n",
              "        vertical-align: middle;\n",
              "    }\n",
              "\n",
              "    .dataframe tbody tr th {\n",
              "        vertical-align: top;\n",
              "    }\n",
              "\n",
              "    .dataframe thead th {\n",
              "        text-align: right;\n",
              "    }\n",
              "</style>\n",
              "<table border=\"1\" class=\"dataframe\">\n",
              "  <thead>\n",
              "    <tr style=\"text-align: right;\">\n",
              "      <th></th>\n",
              "      <th>ride_id</th>\n",
              "      <th>travel_from</th>\n",
              "      <th>car_type</th>\n",
              "      <th>max_capacity</th>\n",
              "      <th>dayofweek</th>\n",
              "      <th>hour</th>\n",
              "      <th>month</th>\n",
              "      <th>number_of_ticket</th>\n",
              "    </tr>\n",
              "  </thead>\n",
              "  <tbody>\n",
              "    <tr>\n",
              "      <th>0</th>\n",
              "      <td>1442</td>\n",
              "      <td>7</td>\n",
              "      <td>0</td>\n",
              "      <td>49</td>\n",
              "      <td>1</td>\n",
              "      <td>7</td>\n",
              "      <td>10</td>\n",
              "      <td>1</td>\n",
              "    </tr>\n",
              "    <tr>\n",
              "      <th>1</th>\n",
              "      <td>5437</td>\n",
              "      <td>7</td>\n",
              "      <td>0</td>\n",
              "      <td>49</td>\n",
              "      <td>6</td>\n",
              "      <td>7</td>\n",
              "      <td>11</td>\n",
              "      <td>1</td>\n",
              "    </tr>\n",
              "    <tr>\n",
              "      <th>2</th>\n",
              "      <td>5710</td>\n",
              "      <td>3</td>\n",
              "      <td>0</td>\n",
              "      <td>49</td>\n",
              "      <td>6</td>\n",
              "      <td>7</td>\n",
              "      <td>11</td>\n",
              "      <td>1</td>\n",
              "    </tr>\n",
              "    <tr>\n",
              "      <th>3</th>\n",
              "      <td>5777</td>\n",
              "      <td>1</td>\n",
              "      <td>0</td>\n",
              "      <td>49</td>\n",
              "      <td>0</td>\n",
              "      <td>7</td>\n",
              "      <td>11</td>\n",
              "      <td>5</td>\n",
              "    </tr>\n",
              "    <tr>\n",
              "      <th>4</th>\n",
              "      <td>5778</td>\n",
              "      <td>7</td>\n",
              "      <td>0</td>\n",
              "      <td>49</td>\n",
              "      <td>0</td>\n",
              "      <td>7</td>\n",
              "      <td>11</td>\n",
              "      <td>31</td>\n",
              "    </tr>\n",
              "  </tbody>\n",
              "</table>\n",
              "</div>"
            ],
            "text/plain": [
              "   ride_id  travel_from  car_type  ...  hour  month  number_of_ticket\n",
              "0     1442            7         0  ...     7     10                 1\n",
              "1     5437            7         0  ...     7     11                 1\n",
              "2     5710            3         0  ...     7     11                 1\n",
              "3     5777            1         0  ...     7     11                 5\n",
              "4     5778            7         0  ...     7     11                31\n",
              "\n",
              "[5 rows x 8 columns]"
            ]
          },
          "metadata": {
            "tags": []
          },
          "execution_count": 47
        }
      ]
    },
    {
      "cell_type": "code",
      "metadata": {
        "id": "pEPnHKnF2rPD"
      },
      "source": [
        "x1 = train_new[['travel_from','car_type','max_capacity','dayofweek','hour','month']]\n",
        "y1 = train_new['number_of_ticket']"
      ],
      "execution_count": null,
      "outputs": []
    },
    {
      "cell_type": "code",
      "metadata": {
        "id": "js_xelmk62Wg"
      },
      "source": [
        "from sklearn.model_selection import train_test_split\n",
        "x1_train, x1_test, y1_train, y1_test = train_test_split(x1, y1, test_size=0.2, random_state=0)"
      ],
      "execution_count": null,
      "outputs": []
    },
    {
      "cell_type": "code",
      "metadata": {
        "colab": {
          "base_uri": "https://localhost:8080/"
        },
        "id": "H-k13i7K58UJ",
        "outputId": "bf56523c-11a1-41b3-d8aa-65df0e324fb5"
      },
      "source": [
        "from sklearn.linear_model import LinearRegression\n",
        "regressor = LinearRegression()\n",
        "regressor.fit(x1_train, y1_train)"
      ],
      "execution_count": null,
      "outputs": [
        {
          "output_type": "execute_result",
          "data": {
            "text/plain": [
              "LinearRegression(copy_X=True, fit_intercept=True, n_jobs=None, normalize=False)"
            ]
          },
          "metadata": {
            "tags": []
          },
          "execution_count": 50
        }
      ]
    },
    {
      "cell_type": "code",
      "metadata": {
        "id": "6qO3ZqVU7ffG"
      },
      "source": [
        "#predicting using the linear regression model\n",
        "y1_pred = regressor.predict(x1_test)"
      ],
      "execution_count": null,
      "outputs": []
    },
    {
      "cell_type": "code",
      "metadata": {
        "colab": {
          "base_uri": "https://localhost:8080/"
        },
        "id": "E74GIPR-7Q9H",
        "outputId": "2c157d88-d88a-4f35-e728-61758345be23"
      },
      "source": [
        "from sklearn import metrics\n",
        "from sklearn.metrics import r2_score\n",
        "print('RMSE: ', np.sqrt(metrics.mean_squared_error(y1_test, y1_pred)))\n",
        "print('MSE: ', metrics.mean_squared_error(y1_test, y1_pred))\n",
        "print('r2 score: ', r2_score(y1_test, y1_pred))\n",
        "#RMSE     :  7.831117900689911\n",
        "#MSE      :  61.32640757450596\n",
        "#r2 score :  0.08340605251648314"
      ],
      "execution_count": null,
      "outputs": [
        {
          "output_type": "stream",
          "text": [
            "RMSE:  7.716190142795252\n",
            "MSE:  59.53959031977062\n",
            "r2 score:  0.02546049457531918\n"
          ],
          "name": "stdout"
        }
      ]
    },
    {
      "cell_type": "code",
      "metadata": {
        "colab": {
          "base_uri": "https://localhost:8080/"
        },
        "id": "vQaF2-bQCGp1",
        "outputId": "f13967ec-fbcd-42a3-c096-26085847343e"
      },
      "source": [
        "from sklearn.metrics import mean_absolute_error\n",
        "print(mean_absolute_error(y1_pred, y1_test))"
      ],
      "execution_count": null,
      "outputs": [
        {
          "output_type": "stream",
          "text": [
            "5.330063943848385\n"
          ],
          "name": "stdout"
        }
      ]
    },
    {
      "cell_type": "markdown",
      "metadata": {
        "id": "33aMgeAzCMmI"
      },
      "source": [
        "The mean absolute error for the base model is 5.330063943848385\n"
      ]
    },
    {
      "cell_type": "markdown",
      "metadata": {
        "id": "LinfpErVc7yP"
      },
      "source": [
        "# **Exploration of other models.**"
      ]
    },
    {
      "cell_type": "markdown",
      "metadata": {
        "id": "BIT1H6DlDO-L"
      },
      "source": [
        "### **XGBoost**"
      ]
    },
    {
      "cell_type": "code",
      "metadata": {
        "id": "JM9OLeJuDSw3"
      },
      "source": [
        "x3 = train_new[['travel_from','car_type','max_capacity','dayofweek','hour','month']]\n",
        "y3 = train_new['number_of_ticket']\n",
        "\n",
        "import xgboost as xgb\n",
        "data_dmatrix = xgb.DMatrix(data=x3,label=y3)\n",
        "\n",
        "from sklearn.model_selection import train_test_split\n",
        "x3_train, x3_test, y3_train, y3_test = train_test_split(x3, y3, test_size=0.2, random_state=0)"
      ],
      "execution_count": null,
      "outputs": []
    },
    {
      "cell_type": "code",
      "metadata": {
        "colab": {
          "base_uri": "https://localhost:8080/"
        },
        "id": "e_LgRLcqEEqY",
        "outputId": "efa3f6ff-e1f8-4cd7-acbd-da36d59583d2"
      },
      "source": [
        "xg_reg = xgb.XGBRegressor()\n",
        "\n",
        "xg_reg.fit(x3_train,y3_train)\n",
        "\n",
        "y3_pred = xg_reg.predict(x3_test)"
      ],
      "execution_count": null,
      "outputs": [
        {
          "output_type": "stream",
          "text": [
            "[05:52:54] WARNING: /workspace/src/objective/regression_obj.cu:152: reg:linear is now deprecated in favor of reg:squarederror.\n"
          ],
          "name": "stdout"
        }
      ]
    },
    {
      "cell_type": "code",
      "metadata": {
        "colab": {
          "base_uri": "https://localhost:8080/"
        },
        "id": "PNEVh925EVbC",
        "outputId": "cf9003bc-6e86-42b5-f447-98d959db1cc3"
      },
      "source": [
        "print(mean_absolute_error(y3_pred, y3_test))"
      ],
      "execution_count": null,
      "outputs": [
        {
          "output_type": "stream",
          "text": [
            "3.478394367727816\n"
          ],
          "name": "stdout"
        }
      ]
    },
    {
      "cell_type": "markdown",
      "metadata": {
        "id": "ToGCED3kEfjN"
      },
      "source": [
        "The mean absolute error for xgboost regressor is 3.478"
      ]
    },
    {
      "cell_type": "markdown",
      "metadata": {
        "id": "CYupU58kDKSH"
      },
      "source": [
        "### **Random Forest Regressor**"
      ]
    },
    {
      "cell_type": "code",
      "metadata": {
        "id": "S7uoynlgx0um"
      },
      "source": [
        "x2 = train_new[['travel_from','car_type','max_capacity','dayofweek','hour','month']]\n",
        "y2 = train_new['number_of_ticket']\n",
        "\n",
        "x2_train, x2_test, y2_train, y2_test = train_test_split(x2, y2, test_size=0.2, random_state=0)\n",
        "\n",
        "from sklearn.ensemble import RandomForestRegressor\n",
        "forest = RandomForestRegressor() \n",
        "forest.fit(x2_train, y2_train)\n",
        "\n",
        "y2_pred = forest.predict(x2_test)"
      ],
      "execution_count": null,
      "outputs": []
    },
    {
      "cell_type": "code",
      "metadata": {
        "colab": {
          "base_uri": "https://localhost:8080/"
        },
        "id": "4-PESCoZ0kmf",
        "outputId": "fa482c86-adab-4850-f6d5-d8ff42efe607"
      },
      "source": [
        "print(mean_absolute_error(y2_pred, y2_test))"
      ],
      "execution_count": null,
      "outputs": [
        {
          "output_type": "stream",
          "text": [
            "3.445505339210502\n"
          ],
          "name": "stdout"
        }
      ]
    },
    {
      "cell_type": "markdown",
      "metadata": {
        "id": "HyPP0gUjC3iD"
      },
      "source": [
        "The mean absolute error for the random forest regressor is 3.445\n"
      ]
    },
    {
      "cell_type": "markdown",
      "metadata": {
        "id": "LWtpxv5cExOI"
      },
      "source": [
        "### **Feature Selection**"
      ]
    },
    {
      "cell_type": "code",
      "metadata": {
        "id": "FCIlzZrpFGvz"
      },
      "source": [
        "x4 = train_new[['travel_from','car_type','max_capacity','dayofweek','hour','month']]\n",
        "y4 = train_new['number_of_ticket']\n",
        "\n",
        "x4_train, x4_test, y4_train, y4_test = train_test_split(x4, y4, test_size=0.2, random_state=0)\n",
        "\n",
        "from sklearn.ensemble import RandomForestRegressor\n",
        "forest = RandomForestRegressor() \n",
        "forest.fit(x4_train, y4_train)\n",
        "\n",
        "importances = forest.feature_importances_"
      ],
      "execution_count": null,
      "outputs": []
    },
    {
      "cell_type": "code",
      "metadata": {
        "colab": {
          "base_uri": "https://localhost:8080/",
          "height": 235
        },
        "id": "eRAS9hpHLWor",
        "outputId": "a598a84d-9ca0-4b59-8c81-6558262cd2c4"
      },
      "source": [
        "test_features = ['travel_from','car_type','max_capacity','dayofweek','hour','month']\n",
        "features_imp = pd.DataFrame(test_features, importances).reset_index()\n",
        "features_imp.rename(columns={'index':'Importance',0:'Feature'},inplace=True)\n",
        "features_imp = features_imp.sort_values(\"Importance\",ascending=False)\n",
        "features_imp"
      ],
      "execution_count": null,
      "outputs": [
        {
          "output_type": "execute_result",
          "data": {
            "text/html": [
              "<div>\n",
              "<style scoped>\n",
              "    .dataframe tbody tr th:only-of-type {\n",
              "        vertical-align: middle;\n",
              "    }\n",
              "\n",
              "    .dataframe tbody tr th {\n",
              "        vertical-align: top;\n",
              "    }\n",
              "\n",
              "    .dataframe thead th {\n",
              "        text-align: right;\n",
              "    }\n",
              "</style>\n",
              "<table border=\"1\" class=\"dataframe\">\n",
              "  <thead>\n",
              "    <tr style=\"text-align: right;\">\n",
              "      <th></th>\n",
              "      <th>Importance</th>\n",
              "      <th>Feature</th>\n",
              "    </tr>\n",
              "  </thead>\n",
              "  <tbody>\n",
              "    <tr>\n",
              "      <th>0</th>\n",
              "      <td>0.585729</td>\n",
              "      <td>travel_from</td>\n",
              "    </tr>\n",
              "    <tr>\n",
              "      <th>5</th>\n",
              "      <td>0.155702</td>\n",
              "      <td>month</td>\n",
              "    </tr>\n",
              "    <tr>\n",
              "      <th>3</th>\n",
              "      <td>0.155560</td>\n",
              "      <td>dayofweek</td>\n",
              "    </tr>\n",
              "    <tr>\n",
              "      <th>4</th>\n",
              "      <td>0.093880</td>\n",
              "      <td>hour</td>\n",
              "    </tr>\n",
              "    <tr>\n",
              "      <th>1</th>\n",
              "      <td>0.005020</td>\n",
              "      <td>car_type</td>\n",
              "    </tr>\n",
              "    <tr>\n",
              "      <th>2</th>\n",
              "      <td>0.004110</td>\n",
              "      <td>max_capacity</td>\n",
              "    </tr>\n",
              "  </tbody>\n",
              "</table>\n",
              "</div>"
            ],
            "text/plain": [
              "   Importance       Feature\n",
              "0    0.585729   travel_from\n",
              "5    0.155702         month\n",
              "3    0.155560     dayofweek\n",
              "4    0.093880          hour\n",
              "1    0.005020      car_type\n",
              "2    0.004110  max_capacity"
            ]
          },
          "metadata": {
            "tags": []
          },
          "execution_count": 60
        }
      ]
    },
    {
      "cell_type": "code",
      "metadata": {
        "colab": {
          "base_uri": "https://localhost:8080/",
          "height": 408
        },
        "id": "vlqmdJByNVkB",
        "outputId": "854c87b2-fc96-4c79-b79e-04e173e5cbd9"
      },
      "source": [
        "plt.figure(figsize=(10,6))\n",
        "# bar plot with matplotlib\n",
        "plt.bar('Feature', 'Importance',data=features_imp)\n",
        "plt.ylabel(\"Importance\")\n",
        "plt.title(\"Feature Importances\")"
      ],
      "execution_count": null,
      "outputs": [
        {
          "output_type": "execute_result",
          "data": {
            "text/plain": [
              "Text(0.5, 1.0, 'Feature Importances')"
            ]
          },
          "metadata": {
            "tags": []
          },
          "execution_count": 61
        },
        {
          "output_type": "display_data",
          "data": {
            "image/png": "[encoded data removed]",
            "text/plain": [
              "<Figure size 720x432 with 1 Axes>"
            ]
          },
          "metadata": {
            "tags": [],
            "needs_background": "light"
          }
        }
      ]
    },
    {
      "cell_type": "markdown",
      "metadata": {
        "id": "FbPSIQPHLn7u"
      },
      "source": [
        "We can see that the top features for use are:\n",
        "* travel_from\n",
        "* hour\n",
        "* month\n",
        "* dayofweek"
      ]
    },
    {
      "cell_type": "code",
      "metadata": {
        "id": "WeGqKB_XPReN"
      },
      "source": [
        "x5 = train_new[['travel_from','dayofweek','hour','month']]\n",
        "y5 = train_new['number_of_ticket']\n",
        "\n",
        "x5_train, x5_test, y5_train, y5_test = train_test_split(x5, y5, test_size=0.2, random_state=0)\n",
        "\n",
        "from sklearn.ensemble import RandomForestRegressor\n",
        "forest = RandomForestRegressor() \n",
        "forest.fit(x5_train, y5_train)\n",
        "\n",
        "y5_pred = forest.predict(x5_test)"
      ],
      "execution_count": null,
      "outputs": []
    },
    {
      "cell_type": "code",
      "metadata": {
        "colab": {
          "base_uri": "https://localhost:8080/"
        },
        "id": "wT7BbGMDVOq3",
        "outputId": "01d63233-a9c5-450a-c823-3c57778395d2"
      },
      "source": [
        "print(mean_absolute_error(y5_pred, y5_test))"
      ],
      "execution_count": null,
      "outputs": [
        {
          "output_type": "stream",
          "text": [
            "3.438244541242945\n"
          ],
          "name": "stdout"
        }
      ]
    },
    {
      "cell_type": "markdown",
      "metadata": {
        "id": "0i8d3rwwWZS1"
      },
      "source": [
        "## **Hyper-Parameter Tuning**"
      ]
    },
    {
      "cell_type": "markdown",
      "metadata": {
        "id": "MUakxocoMmuB"
      },
      "source": [
        "### XGBOOST"
      ]
    },
    {
      "cell_type": "code",
      "metadata": {
        "id": "FvLeLZxvMmuB"
      },
      "source": [
        "import xgboost as xgb\n",
        "#Now you will convert the dataset into an optimized data structure called Dmatrix that\n",
        "# XGBoost supports and gives it acclaimed performance and efficiency gains.\n",
        "data_dmatrix = xgb.DMatrix(data=x3,label=y3)\n",
        "\n",
        "from sklearn.model_selection import train_test_split\n",
        "x3_train, x3_test, y3_train, y3_test = train_test_split(x3, y3, test_size=0.3, random_state=0)"
      ],
      "execution_count": null,
      "outputs": []
    },
    {
      "cell_type": "code",
      "metadata": {
        "id": "tk1Jsap6MmuB"
      },
      "source": [
        "xg_reg = xgb.XGBRegressor(objective ='reg:linear', colsample_bytree = 0.3, learning_rate = 0.1,\n",
        "                max_depth = 5, alpha = 10, n_estimators = 10)"
      ],
      "execution_count": null,
      "outputs": []
    },
    {
      "cell_type": "code",
      "metadata": {
        "colab": {
          "base_uri": "https://localhost:8080/"
        },
        "id": "ZCWeqNP2MmuC",
        "outputId": "e89a5ca0-f3c2-49f7-f587-a948e43e3057"
      },
      "source": [
        "xg_reg.fit(x3_train,y3_train)\n",
        "\n",
        "y_preds = xg_reg.predict(x3_test)"
      ],
      "execution_count": null,
      "outputs": [
        {
          "output_type": "stream",
          "text": [
            "[05:52:55] WARNING: /workspace/src/objective/regression_obj.cu:152: reg:linear is now deprecated in favor of reg:squarederror.\n"
          ],
          "name": "stdout"
        }
      ]
    },
    {
      "cell_type": "code",
      "metadata": {
        "colab": {
          "base_uri": "https://localhost:8080/"
        },
        "id": "rTv9zJFAMmuC",
        "outputId": "36c18681-89ae-4090-9263-332dc6aaa0a2"
      },
      "source": [
        "from sklearn.metrics import mean_squared_error\n",
        "rmse = np.sqrt(mean_squared_error(y3_test, y_preds))\n",
        "print(\"RMSE: %f\" % (rmse))\n",
        "\n",
        "#mse = 2.76992684"
      ],
      "execution_count": null,
      "outputs": [
        {
          "output_type": "stream",
          "text": [
            "RMSE: 7.372549\n"
          ],
          "name": "stdout"
        }
      ]
    },
    {
      "cell_type": "code",
      "metadata": {
        "colab": {
          "base_uri": "https://localhost:8080/"
        },
        "id": "7ryh5Vo1MmuC",
        "outputId": "9d5b9800-2411-436c-fa8c-d6bce8f6ddc2"
      },
      "source": [
        "from sklearn.metrics import mean_absolute_error\n",
        "print(mean_absolute_error(y_preds, y3_test))"
      ],
      "execution_count": null,
      "outputs": [
        {
          "output_type": "stream",
          "text": [
            "4.952581238270539\n"
          ],
          "name": "stdout"
        }
      ]
    },
    {
      "cell_type": "code",
      "metadata": {
        "colab": {
          "base_uri": "https://localhost:8080/",
          "height": 419
        },
        "id": "T1gkrWwCMmuC",
        "outputId": "8516b05c-dbc9-410e-d314-20f8b0fa34c9"
      },
      "source": [
        "x3"
      ],
      "execution_count": null,
      "outputs": [
        {
          "output_type": "execute_result",
          "data": {
            "text/html": [
              "<div>\n",
              "<style scoped>\n",
              "    .dataframe tbody tr th:only-of-type {\n",
              "        vertical-align: middle;\n",
              "    }\n",
              "\n",
              "    .dataframe tbody tr th {\n",
              "        vertical-align: top;\n",
              "    }\n",
              "\n",
              "    .dataframe thead th {\n",
              "        text-align: right;\n",
              "    }\n",
              "</style>\n",
              "<table border=\"1\" class=\"dataframe\">\n",
              "  <thead>\n",
              "    <tr style=\"text-align: right;\">\n",
              "      <th></th>\n",
              "      <th>travel_from</th>\n",
              "      <th>car_type</th>\n",
              "      <th>max_capacity</th>\n",
              "      <th>dayofweek</th>\n",
              "      <th>hour</th>\n",
              "      <th>month</th>\n",
              "    </tr>\n",
              "  </thead>\n",
              "  <tbody>\n",
              "    <tr>\n",
              "      <th>0</th>\n",
              "      <td>7</td>\n",
              "      <td>0</td>\n",
              "      <td>49</td>\n",
              "      <td>1</td>\n",
              "      <td>7</td>\n",
              "      <td>10</td>\n",
              "    </tr>\n",
              "    <tr>\n",
              "      <th>1</th>\n",
              "      <td>7</td>\n",
              "      <td>0</td>\n",
              "      <td>49</td>\n",
              "      <td>6</td>\n",
              "      <td>7</td>\n",
              "      <td>11</td>\n",
              "    </tr>\n",
              "    <tr>\n",
              "      <th>2</th>\n",
              "      <td>3</td>\n",
              "      <td>0</td>\n",
              "      <td>49</td>\n",
              "      <td>6</td>\n",
              "      <td>7</td>\n",
              "      <td>11</td>\n",
              "    </tr>\n",
              "    <tr>\n",
              "      <th>3</th>\n",
              "      <td>1</td>\n",
              "      <td>0</td>\n",
              "      <td>49</td>\n",
              "      <td>0</td>\n",
              "      <td>7</td>\n",
              "      <td>11</td>\n",
              "    </tr>\n",
              "    <tr>\n",
              "      <th>4</th>\n",
              "      <td>7</td>\n",
              "      <td>0</td>\n",
              "      <td>49</td>\n",
              "      <td>0</td>\n",
              "      <td>7</td>\n",
              "      <td>11</td>\n",
              "    </tr>\n",
              "    <tr>\n",
              "      <th>...</th>\n",
              "      <td>...</td>\n",
              "      <td>...</td>\n",
              "      <td>...</td>\n",
              "      <td>...</td>\n",
              "      <td>...</td>\n",
              "      <td>...</td>\n",
              "    </tr>\n",
              "    <tr>\n",
              "      <th>2170</th>\n",
              "      <td>6</td>\n",
              "      <td>1</td>\n",
              "      <td>11</td>\n",
              "      <td>6</td>\n",
              "      <td>10</td>\n",
              "      <td>2</td>\n",
              "    </tr>\n",
              "    <tr>\n",
              "      <th>2171</th>\n",
              "      <td>6</td>\n",
              "      <td>1</td>\n",
              "      <td>11</td>\n",
              "      <td>6</td>\n",
              "      <td>10</td>\n",
              "      <td>2</td>\n",
              "    </tr>\n",
              "    <tr>\n",
              "      <th>2172</th>\n",
              "      <td>6</td>\n",
              "      <td>1</td>\n",
              "      <td>11</td>\n",
              "      <td>6</td>\n",
              "      <td>10</td>\n",
              "      <td>2</td>\n",
              "    </tr>\n",
              "    <tr>\n",
              "      <th>2173</th>\n",
              "      <td>6</td>\n",
              "      <td>1</td>\n",
              "      <td>11</td>\n",
              "      <td>6</td>\n",
              "      <td>10</td>\n",
              "      <td>2</td>\n",
              "    </tr>\n",
              "    <tr>\n",
              "      <th>2174</th>\n",
              "      <td>6</td>\n",
              "      <td>1</td>\n",
              "      <td>11</td>\n",
              "      <td>6</td>\n",
              "      <td>8</td>\n",
              "      <td>2</td>\n",
              "    </tr>\n",
              "  </tbody>\n",
              "</table>\n",
              "<p>2170 rows × 6 columns</p>\n",
              "</div>"
            ],
            "text/plain": [
              "      travel_from  car_type  max_capacity  dayofweek  hour  month\n",
              "0               7         0            49          1     7     10\n",
              "1               7         0            49          6     7     11\n",
              "2               3         0            49          6     7     11\n",
              "3               1         0            49          0     7     11\n",
              "4               7         0            49          0     7     11\n",
              "...           ...       ...           ...        ...   ...    ...\n",
              "2170            6         1            11          6    10      2\n",
              "2171            6         1            11          6    10      2\n",
              "2172            6         1            11          6    10      2\n",
              "2173            6         1            11          6    10      2\n",
              "2174            6         1            11          6     8      2\n",
              "\n",
              "[2170 rows x 6 columns]"
            ]
          },
          "metadata": {
            "tags": []
          },
          "execution_count": 71
        }
      ]
    },
    {
      "cell_type": "code",
      "metadata": {
        "colab": {
          "base_uri": "https://localhost:8080/"
        },
        "id": "gwt1Cj6CMmuC",
        "outputId": "c1742a16-04bd-49f5-bf26-bc3dba841411"
      },
      "source": [
        "xgb.DMatrix(x3, label=y3)"
      ],
      "execution_count": null,
      "outputs": [
        {
          "output_type": "execute_result",
          "data": {
            "text/plain": [
              "<xgboost.core.DMatrix at 0x7f41cbbf0978>"
            ]
          },
          "metadata": {
            "tags": []
          },
          "execution_count": 72
        }
      ]
    },
    {
      "cell_type": "code",
      "metadata": {
        "id": "Gk3w3WoOMmuC"
      },
      "source": [
        "dtrain = xgb.DMatrix(x3_train, label=y3_train)\n",
        "dtest = xgb.DMatrix(x3_test, label=y3_test)"
      ],
      "execution_count": null,
      "outputs": []
    },
    {
      "cell_type": "code",
      "metadata": {
        "colab": {
          "base_uri": "https://localhost:8080/"
        },
        "id": "8TYtZUXKMmuC",
        "outputId": "cf2a56a3-af29-4b18-b03f-b614a6c3469b"
      },
      "source": [
        "# \"Learn\" the mean from the training data\n",
        "mean_train = np.mean(y4_train)\n",
        "# Get predictions on the test set\n",
        "baseline_predictions = np.ones(y4_test.shape) * mean_train\n",
        "# Compute MAE\n",
        "mae_baseline = mean_absolute_error(y4_test, baseline_predictions)\n",
        "print(\"Baseline MAE is {:.2f}\".format(mae_baseline))"
      ],
      "execution_count": null,
      "outputs": [
        {
          "output_type": "stream",
          "text": [
            "Baseline MAE is 5.10\n"
          ],
          "name": "stdout"
        }
      ]
    },
    {
      "cell_type": "code",
      "metadata": {
        "id": "0C4ZUsr9MmuC"
      },
      "source": [
        "params = {\n",
        "    # Parameters that we are going to tune.\n",
        "    'max_depth':6,\n",
        "    'min_child_weight': 1,\n",
        "    'eta':.3,\n",
        "    'subsample': 1,\n",
        "    'colsample_bytree': 1,\n",
        "    # Other parameters\n",
        "    'objective':'reg:linear',\n",
        "}"
      ],
      "execution_count": null,
      "outputs": []
    },
    {
      "cell_type": "code",
      "metadata": {
        "id": "f5DWAclLMmuC"
      },
      "source": [
        "params['eval_metric'] = \"mae\"\n",
        "num_boost_round = 999"
      ],
      "execution_count": null,
      "outputs": []
    },
    {
      "cell_type": "code",
      "metadata": {
        "colab": {
          "base_uri": "https://localhost:8080/"
        },
        "id": "EKVGRuF7MmuC",
        "outputId": "da21a0a3-138d-412c-e595-0f53b739e91d"
      },
      "source": [
        "model = xgb.train(\n",
        "    params,\n",
        "    dtrain,\n",
        "    num_boost_round=num_boost_round,\n",
        "    evals=[(dtest, \"Test\")],\n",
        "    early_stopping_rounds=10\n",
        ")\n",
        "print(\"Best MAE: {:.2f} with {} rounds\".format(\n",
        "                 model.best_score,\n",
        "                 model.best_iteration+1))"
      ],
      "execution_count": null,
      "outputs": [
        {
          "output_type": "stream",
          "text": [
            "[05:52:55] WARNING: /workspace/src/objective/regression_obj.cu:152: reg:linear is now deprecated in favor of reg:squarederror.\n",
            "[0]\tTest-mae:5.44093\n",
            "Will train until Test-mae hasn't improved in 10 rounds.\n",
            "[1]\tTest-mae:4.70139\n",
            "[2]\tTest-mae:4.29405\n",
            "[3]\tTest-mae:4.01649\n",
            "[4]\tTest-mae:3.84631\n",
            "[5]\tTest-mae:3.74008\n",
            "[6]\tTest-mae:3.7149\n",
            "[7]\tTest-mae:3.68011\n",
            "[8]\tTest-mae:3.65645\n",
            "[9]\tTest-mae:3.6481\n",
            "[10]\tTest-mae:3.61746\n",
            "[11]\tTest-mae:3.59678\n",
            "[12]\tTest-mae:3.59964\n",
            "[13]\tTest-mae:3.59465\n",
            "[14]\tTest-mae:3.58466\n",
            "[15]\tTest-mae:3.57386\n",
            "[16]\tTest-mae:3.57151\n",
            "[17]\tTest-mae:3.56937\n",
            "[18]\tTest-mae:3.56177\n",
            "[19]\tTest-mae:3.5619\n",
            "[20]\tTest-mae:3.55325\n",
            "[21]\tTest-mae:3.55501\n",
            "[22]\tTest-mae:3.55012\n",
            "[23]\tTest-mae:3.54823\n",
            "[24]\tTest-mae:3.54849\n",
            "[25]\tTest-mae:3.55035\n",
            "[26]\tTest-mae:3.54894\n",
            "[27]\tTest-mae:3.54769\n",
            "[28]\tTest-mae:3.55657\n",
            "[29]\tTest-mae:3.5557\n",
            "[30]\tTest-mae:3.55613\n",
            "[31]\tTest-mae:3.55729\n",
            "[32]\tTest-mae:3.55374\n",
            "[33]\tTest-mae:3.56222\n",
            "[34]\tTest-mae:3.56257\n",
            "[35]\tTest-mae:3.56795\n",
            "[36]\tTest-mae:3.57182\n",
            "[37]\tTest-mae:3.57088\n",
            "Stopping. Best iteration:\n",
            "[27]\tTest-mae:3.54769\n",
            "\n",
            "Best MAE: 3.55 with 28 rounds\n"
          ],
          "name": "stdout"
        }
      ]
    },
    {
      "cell_type": "code",
      "metadata": {
        "colab": {
          "base_uri": "https://localhost:8080/",
          "height": 650
        },
        "id": "dCn63pgEMmuC",
        "outputId": "683c056a-6c5a-4f8d-b9ed-b406d984563a"
      },
      "source": [
        "cv_results = xgb.cv(\n",
        "    params,\n",
        "    dtrain,\n",
        "    num_boost_round=num_boost_round,\n",
        "    seed=42,\n",
        "    nfold=5,\n",
        "    metrics={'mae'},\n",
        "    early_stopping_rounds=10\n",
        ")\n",
        "cv_results"
      ],
      "execution_count": null,
      "outputs": [
        {
          "output_type": "stream",
          "text": [
            "[05:52:55] WARNING: /workspace/src/objective/regression_obj.cu:152: reg:linear is now deprecated in favor of reg:squarederror.\n",
            "[05:52:55] WARNING: /workspace/src/objective/regression_obj.cu:152: reg:linear is now deprecated in favor of reg:squarederror.\n",
            "[05:52:55] WARNING: /workspace/src/objective/regression_obj.cu:152: reg:linear is now deprecated in favor of reg:squarederror.\n",
            "[05:52:55] WARNING: /workspace/src/objective/regression_obj.cu:152: reg:linear is now deprecated in favor of reg:squarederror.\n",
            "[05:52:55] WARNING: /workspace/src/objective/regression_obj.cu:152: reg:linear is now deprecated in favor of reg:squarederror.\n"
          ],
          "name": "stdout"
        },
        {
          "output_type": "execute_result",
          "data": {
            "text/html": [
              "<div>\n",
              "<style scoped>\n",
              "    .dataframe tbody tr th:only-of-type {\n",
              "        vertical-align: middle;\n",
              "    }\n",
              "\n",
              "    .dataframe tbody tr th {\n",
              "        vertical-align: top;\n",
              "    }\n",
              "\n",
              "    .dataframe thead th {\n",
              "        text-align: right;\n",
              "    }\n",
              "</style>\n",
              "<table border=\"1\" class=\"dataframe\">\n",
              "  <thead>\n",
              "    <tr style=\"text-align: right;\">\n",
              "      <th></th>\n",
              "      <th>train-mae-mean</th>\n",
              "      <th>train-mae-std</th>\n",
              "      <th>test-mae-mean</th>\n",
              "      <th>test-mae-std</th>\n",
              "    </tr>\n",
              "  </thead>\n",
              "  <tbody>\n",
              "    <tr>\n",
              "      <th>0</th>\n",
              "      <td>5.418603</td>\n",
              "      <td>0.037157</td>\n",
              "      <td>5.440267</td>\n",
              "      <td>0.245503</td>\n",
              "    </tr>\n",
              "    <tr>\n",
              "      <th>1</th>\n",
              "      <td>4.601529</td>\n",
              "      <td>0.037123</td>\n",
              "      <td>4.681557</td>\n",
              "      <td>0.256223</td>\n",
              "    </tr>\n",
              "    <tr>\n",
              "      <th>2</th>\n",
              "      <td>4.165971</td>\n",
              "      <td>0.031981</td>\n",
              "      <td>4.277998</td>\n",
              "      <td>0.278342</td>\n",
              "    </tr>\n",
              "    <tr>\n",
              "      <th>3</th>\n",
              "      <td>3.874515</td>\n",
              "      <td>0.045426</td>\n",
              "      <td>4.021853</td>\n",
              "      <td>0.263905</td>\n",
              "    </tr>\n",
              "    <tr>\n",
              "      <th>4</th>\n",
              "      <td>3.715960</td>\n",
              "      <td>0.043088</td>\n",
              "      <td>3.895441</td>\n",
              "      <td>0.240723</td>\n",
              "    </tr>\n",
              "    <tr>\n",
              "      <th>5</th>\n",
              "      <td>3.602784</td>\n",
              "      <td>0.045534</td>\n",
              "      <td>3.814824</td>\n",
              "      <td>0.230918</td>\n",
              "    </tr>\n",
              "    <tr>\n",
              "      <th>6</th>\n",
              "      <td>3.531680</td>\n",
              "      <td>0.046496</td>\n",
              "      <td>3.776711</td>\n",
              "      <td>0.232174</td>\n",
              "    </tr>\n",
              "    <tr>\n",
              "      <th>7</th>\n",
              "      <td>3.475658</td>\n",
              "      <td>0.049257</td>\n",
              "      <td>3.748400</td>\n",
              "      <td>0.244173</td>\n",
              "    </tr>\n",
              "    <tr>\n",
              "      <th>8</th>\n",
              "      <td>3.422679</td>\n",
              "      <td>0.043863</td>\n",
              "      <td>3.721732</td>\n",
              "      <td>0.252825</td>\n",
              "    </tr>\n",
              "    <tr>\n",
              "      <th>9</th>\n",
              "      <td>3.390334</td>\n",
              "      <td>0.046194</td>\n",
              "      <td>3.709823</td>\n",
              "      <td>0.249291</td>\n",
              "    </tr>\n",
              "    <tr>\n",
              "      <th>10</th>\n",
              "      <td>3.364034</td>\n",
              "      <td>0.054130</td>\n",
              "      <td>3.707954</td>\n",
              "      <td>0.256522</td>\n",
              "    </tr>\n",
              "    <tr>\n",
              "      <th>11</th>\n",
              "      <td>3.335584</td>\n",
              "      <td>0.049383</td>\n",
              "      <td>3.687996</td>\n",
              "      <td>0.262422</td>\n",
              "    </tr>\n",
              "    <tr>\n",
              "      <th>12</th>\n",
              "      <td>3.316365</td>\n",
              "      <td>0.055362</td>\n",
              "      <td>3.692539</td>\n",
              "      <td>0.263788</td>\n",
              "    </tr>\n",
              "    <tr>\n",
              "      <th>13</th>\n",
              "      <td>3.300793</td>\n",
              "      <td>0.055897</td>\n",
              "      <td>3.695273</td>\n",
              "      <td>0.264346</td>\n",
              "    </tr>\n",
              "    <tr>\n",
              "      <th>14</th>\n",
              "      <td>3.284143</td>\n",
              "      <td>0.050774</td>\n",
              "      <td>3.690922</td>\n",
              "      <td>0.270342</td>\n",
              "    </tr>\n",
              "    <tr>\n",
              "      <th>15</th>\n",
              "      <td>3.259049</td>\n",
              "      <td>0.051806</td>\n",
              "      <td>3.686983</td>\n",
              "      <td>0.275101</td>\n",
              "    </tr>\n",
              "  </tbody>\n",
              "</table>\n",
              "</div>"
            ],
            "text/plain": [
              "    train-mae-mean  train-mae-std  test-mae-mean  test-mae-std\n",
              "0         5.418603       0.037157       5.440267      0.245503\n",
              "1         4.601529       0.037123       4.681557      0.256223\n",
              "2         4.165971       0.031981       4.277998      0.278342\n",
              "3         3.874515       0.045426       4.021853      0.263905\n",
              "4         3.715960       0.043088       3.895441      0.240723\n",
              "5         3.602784       0.045534       3.814824      0.230918\n",
              "6         3.531680       0.046496       3.776711      0.232174\n",
              "7         3.475658       0.049257       3.748400      0.244173\n",
              "8         3.422679       0.043863       3.721732      0.252825\n",
              "9         3.390334       0.046194       3.709823      0.249291\n",
              "10        3.364034       0.054130       3.707954      0.256522\n",
              "11        3.335584       0.049383       3.687996      0.262422\n",
              "12        3.316365       0.055362       3.692539      0.263788\n",
              "13        3.300793       0.055897       3.695273      0.264346\n",
              "14        3.284143       0.050774       3.690922      0.270342\n",
              "15        3.259049       0.051806       3.686983      0.275101"
            ]
          },
          "metadata": {
            "tags": []
          },
          "execution_count": 78
        }
      ]
    },
    {
      "cell_type": "code",
      "metadata": {
        "colab": {
          "base_uri": "https://localhost:8080/"
        },
        "id": "l05yDjLKMmuC",
        "outputId": "99f3d595-16df-4e9f-975b-ee33c0a501fb"
      },
      "source": [
        "cv_results['test-mae-mean'].min()"
      ],
      "execution_count": null,
      "outputs": [
        {
          "output_type": "execute_result",
          "data": {
            "text/plain": [
              "3.6869834"
            ]
          },
          "metadata": {
            "tags": []
          },
          "execution_count": 79
        }
      ]
    },
    {
      "cell_type": "markdown",
      "metadata": {
        "id": "ilF4laHtDWOn"
      },
      "source": [
        "**max_depth and min_child_weight**"
      ]
    },
    {
      "cell_type": "code",
      "metadata": {
        "id": "zhobyGPiMmuD"
      },
      "source": [
        "gridsearch_params = [\n",
        "    (max_depth, min_child_weight)\n",
        "    for max_depth in range(9,12)\n",
        "    for min_child_weight in range(5,8)\n",
        "]"
      ],
      "execution_count": null,
      "outputs": []
    },
    {
      "cell_type": "code",
      "metadata": {
        "colab": {
          "base_uri": "https://localhost:8080/"
        },
        "id": "IGexGqhaMmuD",
        "outputId": "48135930-5fd2-4bc7-e23f-a15301fd3549"
      },
      "source": [
        "min_mae = float(\"Inf\")\n",
        "best_params = None\n",
        "for max_depth, min_child_weight in gridsearch_params:\n",
        "    print(\"CV with max_depth={}, min_child_weight={}\".format(\n",
        "                             max_depth,\n",
        "                             min_child_weight))\n",
        "    # Update our parameters\n",
        "    params['max_depth'] = max_depth\n",
        "    params['min_child_weight'] = min_child_weight\n",
        "    # Run CV\n",
        "    cv_results = xgb.cv(\n",
        "        params,\n",
        "        dtrain,\n",
        "        num_boost_round=num_boost_round,\n",
        "        seed=42,\n",
        "        nfold=5,\n",
        "        metrics={'mae'},\n",
        "        early_stopping_rounds=10\n",
        "    )\n",
        "    # Update best MAE\n",
        "    mean_mae = cv_results['test-mae-mean'].min()\n",
        "    boost_rounds = cv_results['test-mae-mean'].argmin()\n",
        "    print(\"\\tMAE {} for {} rounds\".format(mean_mae, boost_rounds))\n",
        "    if mean_mae < min_mae:\n",
        "        min_mae = mean_mae\n",
        "        best_params = (max_depth,min_child_weight)\n",
        "print(\"Best params: {}, {}, MAE: {}\".format(best_params[0], best_params[1], min_mae))"
      ],
      "execution_count": null,
      "outputs": [
        {
          "output_type": "stream",
          "text": [
            "CV with max_depth=9, min_child_weight=5\n",
            "[05:52:56] WARNING: /workspace/src/objective/regression_obj.cu:152: reg:linear is now deprecated in favor of reg:squarederror.\n",
            "[05:52:56] WARNING: /workspace/src/objective/regression_obj.cu:152: reg:linear is now deprecated in favor of reg:squarederror.\n",
            "[05:52:56] WARNING: /workspace/src/objective/regression_obj.cu:152: reg:linear is now deprecated in favor of reg:squarederror.\n",
            "[05:52:56] WARNING: /workspace/src/objective/regression_obj.cu:152: reg:linear is now deprecated in favor of reg:squarederror.\n",
            "[05:52:56] WARNING: /workspace/src/objective/regression_obj.cu:152: reg:linear is now deprecated in favor of reg:squarederror.\n",
            "\tMAE 3.7439432000000004 for 9 rounds\n",
            "CV with max_depth=9, min_child_weight=6\n",
            "[05:52:56] WARNING: /workspace/src/objective/regression_obj.cu:152: reg:linear is now deprecated in favor of reg:squarederror.\n",
            "[05:52:56] WARNING: /workspace/src/objective/regression_obj.cu:152: reg:linear is now deprecated in favor of reg:squarederror.\n",
            "[05:52:56] WARNING: /workspace/src/objective/regression_obj.cu:152: reg:linear is now deprecated in favor of reg:squarederror.\n",
            "[05:52:56] WARNING: /workspace/src/objective/regression_obj.cu:152: reg:linear is now deprecated in favor of reg:squarederror.\n",
            "[05:52:56] WARNING: /workspace/src/objective/regression_obj.cu:152: reg:linear is now deprecated in favor of reg:squarederror.\n",
            "\tMAE 3.7995804 for 8 rounds\n",
            "CV with max_depth=9, min_child_weight=7\n",
            "[05:52:56] WARNING: /workspace/src/objective/regression_obj.cu:152: reg:linear is now deprecated in favor of reg:squarederror.\n",
            "[05:52:56] WARNING: /workspace/src/objective/regression_obj.cu:152: reg:linear is now deprecated in favor of reg:squarederror.\n",
            "[05:52:56] WARNING: /workspace/src/objective/regression_obj.cu:152: reg:linear is now deprecated in favor of reg:squarederror.\n",
            "[05:52:56] WARNING: /workspace/src/objective/regression_obj.cu:152: reg:linear is now deprecated in favor of reg:squarederror.\n",
            "[05:52:56] WARNING: /workspace/src/objective/regression_obj.cu:152: reg:linear is now deprecated in favor of reg:squarederror.\n",
            "\tMAE 3.7894470000000005 for 9 rounds\n",
            "CV with max_depth=10, min_child_weight=5\n",
            "[05:52:57] WARNING: /workspace/src/objective/regression_obj.cu:152: reg:linear is now deprecated in favor of reg:squarederror.\n",
            "[05:52:57] WARNING: /workspace/src/objective/regression_obj.cu:152: reg:linear is now deprecated in favor of reg:squarederror.\n",
            "[05:52:57] WARNING: /workspace/src/objective/regression_obj.cu:152: reg:linear is now deprecated in favor of reg:squarederror.\n",
            "[05:52:57] WARNING: /workspace/src/objective/regression_obj.cu:152: reg:linear is now deprecated in favor of reg:squarederror.\n",
            "[05:52:57] WARNING: /workspace/src/objective/regression_obj.cu:152: reg:linear is now deprecated in favor of reg:squarederror.\n",
            "\tMAE 3.7518520000000004 for 9 rounds\n",
            "CV with max_depth=10, min_child_weight=6\n",
            "[05:52:57] WARNING: /workspace/src/objective/regression_obj.cu:152: reg:linear is now deprecated in favor of reg:squarederror.\n",
            "[05:52:57] WARNING: /workspace/src/objective/regression_obj.cu:152: reg:linear is now deprecated in favor of reg:squarederror.\n",
            "[05:52:57] WARNING: /workspace/src/objective/regression_obj.cu:152: reg:linear is now deprecated in favor of reg:squarederror.\n",
            "[05:52:57] WARNING: /workspace/src/objective/regression_obj.cu:152: reg:linear is now deprecated in favor of reg:squarederror.\n",
            "[05:52:57] WARNING: /workspace/src/objective/regression_obj.cu:152: reg:linear is now deprecated in favor of reg:squarederror.\n",
            "\tMAE 3.8048382000000003 for 8 rounds\n",
            "CV with max_depth=10, min_child_weight=7\n",
            "[05:52:57] WARNING: /workspace/src/objective/regression_obj.cu:152: reg:linear is now deprecated in favor of reg:squarederror.\n",
            "[05:52:57] WARNING: /workspace/src/objective/regression_obj.cu:152: reg:linear is now deprecated in favor of reg:squarederror.\n",
            "[05:52:57] WARNING: /workspace/src/objective/regression_obj.cu:152: reg:linear is now deprecated in favor of reg:squarederror.\n",
            "[05:52:57] WARNING: /workspace/src/objective/regression_obj.cu:152: reg:linear is now deprecated in favor of reg:squarederror.\n",
            "[05:52:57] WARNING: /workspace/src/objective/regression_obj.cu:152: reg:linear is now deprecated in favor of reg:squarederror.\n",
            "\tMAE 3.7987776 for 9 rounds\n",
            "CV with max_depth=11, min_child_weight=5\n",
            "[05:52:58] WARNING: /workspace/src/objective/regression_obj.cu:152: reg:linear is now deprecated in favor of reg:squarederror.\n",
            "[05:52:58] WARNING: /workspace/src/objective/regression_obj.cu:152: reg:linear is now deprecated in favor of reg:squarederror.\n",
            "[05:52:58] WARNING: /workspace/src/objective/regression_obj.cu:152: reg:linear is now deprecated in favor of reg:squarederror.\n",
            "[05:52:58] WARNING: /workspace/src/objective/regression_obj.cu:152: reg:linear is now deprecated in favor of reg:squarederror.\n",
            "[05:52:58] WARNING: /workspace/src/objective/regression_obj.cu:152: reg:linear is now deprecated in favor of reg:squarederror.\n",
            "\tMAE 3.7406661999999997 for 10 rounds\n",
            "CV with max_depth=11, min_child_weight=6\n",
            "[05:52:58] WARNING: /workspace/src/objective/regression_obj.cu:152: reg:linear is now deprecated in favor of reg:squarederror.\n",
            "[05:52:58] WARNING: /workspace/src/objective/regression_obj.cu:152: reg:linear is now deprecated in favor of reg:squarederror.\n",
            "[05:52:58] WARNING: /workspace/src/objective/regression_obj.cu:152: reg:linear is now deprecated in favor of reg:squarederror.\n",
            "[05:52:58] WARNING: /workspace/src/objective/regression_obj.cu:152: reg:linear is now deprecated in favor of reg:squarederror.\n",
            "[05:52:58] WARNING: /workspace/src/objective/regression_obj.cu:152: reg:linear is now deprecated in favor of reg:squarederror.\n",
            "\tMAE 3.8022962 for 9 rounds\n",
            "CV with max_depth=11, min_child_weight=7\n",
            "[05:52:58] WARNING: /workspace/src/objective/regression_obj.cu:152: reg:linear is now deprecated in favor of reg:squarederror.\n",
            "[05:52:58] WARNING: /workspace/src/objective/regression_obj.cu:152: reg:linear is now deprecated in favor of reg:squarederror.\n",
            "[05:52:58] WARNING: /workspace/src/objective/regression_obj.cu:152: reg:linear is now deprecated in favor of reg:squarederror.\n",
            "[05:52:58] WARNING: /workspace/src/objective/regression_obj.cu:152: reg:linear is now deprecated in favor of reg:squarederror.\n",
            "[05:52:58] WARNING: /workspace/src/objective/regression_obj.cu:152: reg:linear is now deprecated in favor of reg:squarederror.\n",
            "\tMAE 3.7888496000000003 for 9 rounds\n",
            "Best params: 11, 5, MAE: 3.7406661999999997\n"
          ],
          "name": "stdout"
        }
      ]
    },
    {
      "cell_type": "code",
      "metadata": {
        "id": "oBGb6vHAMmuD"
      },
      "source": [
        "params['max_depth'] = 11\n",
        "params['min_child_weight'] = 5"
      ],
      "execution_count": null,
      "outputs": []
    },
    {
      "cell_type": "markdown",
      "metadata": {
        "id": "zfQi3p3pDtuP"
      },
      "source": [
        "**subsample, colsample**"
      ]
    },
    {
      "cell_type": "code",
      "metadata": {
        "id": "J9pmaDafMmuD"
      },
      "source": [
        "gridsearch_params = [\n",
        "    (subsample, colsample)\n",
        "    for subsample in [i/10. for i in range(7,11)]\n",
        "    for colsample in [i/10. for i in range(7,11)]\n",
        "]"
      ],
      "execution_count": null,
      "outputs": []
    },
    {
      "cell_type": "code",
      "metadata": {
        "colab": {
          "base_uri": "https://localhost:8080/"
        },
        "id": "IVTlxRgFMmuD",
        "outputId": "a55480ce-42f6-47d4-d8cf-bc5b4cb7ea6e"
      },
      "source": [
        "min_mae = float(\"Inf\")\n",
        "best_params = None\n",
        "# We start by the largest values and go down to the smallest\n",
        "for subsample, colsample in reversed(gridsearch_params):\n",
        "    print(\"CV with subsample={}, colsample={}\".format(\n",
        "                             subsample,\n",
        "                             colsample))\n",
        "    # We update our parameters\n",
        "    params['subsample'] = subsample\n",
        "    params['colsample_bytree'] = colsample\n",
        "    # Run CV\n",
        "    cv_results = xgb.cv(\n",
        "        params,\n",
        "        dtrain,\n",
        "        num_boost_round=num_boost_round,\n",
        "        seed=42,\n",
        "        nfold=5,\n",
        "        metrics={'mae'},\n",
        "        early_stopping_rounds=10\n",
        "    )\n",
        "    # Update best score\n",
        "    mean_mae = cv_results['test-mae-mean'].min()\n",
        "    boost_rounds = cv_results['test-mae-mean'].argmin()\n",
        "    print(\"\\tMAE {} for {} rounds\".format(mean_mae, boost_rounds))\n",
        "    if mean_mae < min_mae:\n",
        "        min_mae = mean_mae\n",
        "        best_params = (subsample,colsample)\n",
        "print(\"Best params: {}, {}, MAE: {}\".format(best_params[0], best_params[1], min_mae))"
      ],
      "execution_count": null,
      "outputs": [
        {
          "output_type": "stream",
          "text": [
            "CV with subsample=1.0, colsample=1.0\n",
            "[05:52:59] WARNING: /workspace/src/objective/regression_obj.cu:152: reg:linear is now deprecated in favor of reg:squarederror.\n",
            "[05:52:59] WARNING: /workspace/src/objective/regression_obj.cu:152: reg:linear is now deprecated in favor of reg:squarederror.\n",
            "[05:52:59] WARNING: /workspace/src/objective/regression_obj.cu:152: reg:linear is now deprecated in favor of reg:squarederror.\n",
            "[05:52:59] WARNING: /workspace/src/objective/regression_obj.cu:152: reg:linear is now deprecated in favor of reg:squarederror.\n",
            "[05:52:59] WARNING: /workspace/src/objective/regression_obj.cu:152: reg:linear is now deprecated in favor of reg:squarederror.\n",
            "\tMAE 3.7518520000000004 for 9 rounds\n",
            "CV with subsample=1.0, colsample=0.9\n",
            "[05:52:59] WARNING: /workspace/src/objective/regression_obj.cu:152: reg:linear is now deprecated in favor of reg:squarederror.\n",
            "[05:52:59] WARNING: /workspace/src/objective/regression_obj.cu:152: reg:linear is now deprecated in favor of reg:squarederror.\n",
            "[05:52:59] WARNING: /workspace/src/objective/regression_obj.cu:152: reg:linear is now deprecated in favor of reg:squarederror.\n",
            "[05:52:59] WARNING: /workspace/src/objective/regression_obj.cu:152: reg:linear is now deprecated in favor of reg:squarederror.\n",
            "[05:52:59] WARNING: /workspace/src/objective/regression_obj.cu:152: reg:linear is now deprecated in favor of reg:squarederror.\n",
            "\tMAE 3.7569782000000003 for 10 rounds\n",
            "CV with subsample=1.0, colsample=0.8\n",
            "[05:52:59] WARNING: /workspace/src/objective/regression_obj.cu:152: reg:linear is now deprecated in favor of reg:squarederror.\n",
            "[05:52:59] WARNING: /workspace/src/objective/regression_obj.cu:152: reg:linear is now deprecated in favor of reg:squarederror.\n",
            "[05:52:59] WARNING: /workspace/src/objective/regression_obj.cu:152: reg:linear is now deprecated in favor of reg:squarederror.\n",
            "[05:52:59] WARNING: /workspace/src/objective/regression_obj.cu:152: reg:linear is now deprecated in favor of reg:squarederror.\n",
            "[05:52:59] WARNING: /workspace/src/objective/regression_obj.cu:152: reg:linear is now deprecated in favor of reg:squarederror.\n",
            "\tMAE 3.7920032 for 14 rounds\n",
            "CV with subsample=1.0, colsample=0.7\n",
            "[05:53:00] WARNING: /workspace/src/objective/regression_obj.cu:152: reg:linear is now deprecated in favor of reg:squarederror.\n",
            "[05:53:00] WARNING: /workspace/src/objective/regression_obj.cu:152: reg:linear is now deprecated in favor of reg:squarederror.\n",
            "[05:53:00] WARNING: /workspace/src/objective/regression_obj.cu:152: reg:linear is now deprecated in favor of reg:squarederror.\n",
            "[05:53:00] WARNING: /workspace/src/objective/regression_obj.cu:152: reg:linear is now deprecated in favor of reg:squarederror.\n",
            "[05:53:00] WARNING: /workspace/src/objective/regression_obj.cu:152: reg:linear is now deprecated in favor of reg:squarederror.\n",
            "\tMAE 3.7920032 for 14 rounds\n",
            "CV with subsample=0.9, colsample=1.0\n",
            "[05:53:00] WARNING: /workspace/src/objective/regression_obj.cu:152: reg:linear is now deprecated in favor of reg:squarederror.\n",
            "[05:53:00] WARNING: /workspace/src/objective/regression_obj.cu:152: reg:linear is now deprecated in favor of reg:squarederror.\n",
            "[05:53:00] WARNING: /workspace/src/objective/regression_obj.cu:152: reg:linear is now deprecated in favor of reg:squarederror.\n",
            "[05:53:00] WARNING: /workspace/src/objective/regression_obj.cu:152: reg:linear is now deprecated in favor of reg:squarederror.\n",
            "[05:53:00] WARNING: /workspace/src/objective/regression_obj.cu:152: reg:linear is now deprecated in favor of reg:squarederror.\n",
            "\tMAE 3.7747913999999994 for 7 rounds\n",
            "CV with subsample=0.9, colsample=0.9\n",
            "[05:53:00] WARNING: /workspace/src/objective/regression_obj.cu:152: reg:linear is now deprecated in favor of reg:squarederror.\n",
            "[05:53:00] WARNING: /workspace/src/objective/regression_obj.cu:152: reg:linear is now deprecated in favor of reg:squarederror.\n",
            "[05:53:00] WARNING: /workspace/src/objective/regression_obj.cu:152: reg:linear is now deprecated in favor of reg:squarederror.\n",
            "[05:53:00] WARNING: /workspace/src/objective/regression_obj.cu:152: reg:linear is now deprecated in favor of reg:squarederror.\n",
            "[05:53:00] WARNING: /workspace/src/objective/regression_obj.cu:152: reg:linear is now deprecated in favor of reg:squarederror.\n",
            "\tMAE 3.7959316000000003 for 9 rounds\n",
            "CV with subsample=0.9, colsample=0.8\n",
            "[05:53:00] WARNING: /workspace/src/objective/regression_obj.cu:152: reg:linear is now deprecated in favor of reg:squarederror.\n",
            "[05:53:00] WARNING: /workspace/src/objective/regression_obj.cu:152: reg:linear is now deprecated in favor of reg:squarederror.\n",
            "[05:53:00] WARNING: /workspace/src/objective/regression_obj.cu:152: reg:linear is now deprecated in favor of reg:squarederror.\n",
            "[05:53:00] WARNING: /workspace/src/objective/regression_obj.cu:152: reg:linear is now deprecated in favor of reg:squarederror.\n",
            "[05:53:01] WARNING: /workspace/src/objective/regression_obj.cu:152: reg:linear is now deprecated in favor of reg:squarederror.\n",
            "\tMAE 3.804589 for 24 rounds\n",
            "CV with subsample=0.9, colsample=0.7\n",
            "[05:53:01] WARNING: /workspace/src/objective/regression_obj.cu:152: reg:linear is now deprecated in favor of reg:squarederror.\n",
            "[05:53:01] WARNING: /workspace/src/objective/regression_obj.cu:152: reg:linear is now deprecated in favor of reg:squarederror.\n",
            "[05:53:01] WARNING: /workspace/src/objective/regression_obj.cu:152: reg:linear is now deprecated in favor of reg:squarederror.\n",
            "[05:53:01] WARNING: /workspace/src/objective/regression_obj.cu:152: reg:linear is now deprecated in favor of reg:squarederror.\n",
            "[05:53:01] WARNING: /workspace/src/objective/regression_obj.cu:152: reg:linear is now deprecated in favor of reg:squarederror.\n",
            "\tMAE 3.804589 for 24 rounds\n",
            "CV with subsample=0.8, colsample=1.0\n",
            "[05:53:01] WARNING: /workspace/src/objective/regression_obj.cu:152: reg:linear is now deprecated in favor of reg:squarederror.\n",
            "[05:53:01] WARNING: /workspace/src/objective/regression_obj.cu:152: reg:linear is now deprecated in favor of reg:squarederror.\n",
            "[05:53:01] WARNING: /workspace/src/objective/regression_obj.cu:152: reg:linear is now deprecated in favor of reg:squarederror.\n",
            "[05:53:01] WARNING: /workspace/src/objective/regression_obj.cu:152: reg:linear is now deprecated in favor of reg:squarederror.\n",
            "[05:53:01] WARNING: /workspace/src/objective/regression_obj.cu:152: reg:linear is now deprecated in favor of reg:squarederror.\n",
            "\tMAE 3.7663788000000005 for 7 rounds\n",
            "CV with subsample=0.8, colsample=0.9\n",
            "[05:53:02] WARNING: /workspace/src/objective/regression_obj.cu:152: reg:linear is now deprecated in favor of reg:squarederror.\n",
            "[05:53:02] WARNING: /workspace/src/objective/regression_obj.cu:152: reg:linear is now deprecated in favor of reg:squarederror.\n",
            "[05:53:02] WARNING: /workspace/src/objective/regression_obj.cu:152: reg:linear is now deprecated in favor of reg:squarederror.\n",
            "[05:53:02] WARNING: /workspace/src/objective/regression_obj.cu:152: reg:linear is now deprecated in favor of reg:squarederror.\n",
            "[05:53:02] WARNING: /workspace/src/objective/regression_obj.cu:152: reg:linear is now deprecated in favor of reg:squarederror.\n",
            "\tMAE 3.7920873999999998 for 9 rounds\n",
            "CV with subsample=0.8, colsample=0.8\n",
            "[05:53:02] WARNING: /workspace/src/objective/regression_obj.cu:152: reg:linear is now deprecated in favor of reg:squarederror.\n",
            "[05:53:02] WARNING: /workspace/src/objective/regression_obj.cu:152: reg:linear is now deprecated in favor of reg:squarederror.\n",
            "[05:53:02] WARNING: /workspace/src/objective/regression_obj.cu:152: reg:linear is now deprecated in favor of reg:squarederror.\n",
            "[05:53:02] WARNING: /workspace/src/objective/regression_obj.cu:152: reg:linear is now deprecated in favor of reg:squarederror.\n",
            "[05:53:02] WARNING: /workspace/src/objective/regression_obj.cu:152: reg:linear is now deprecated in favor of reg:squarederror.\n",
            "\tMAE 3.8116113999999994 for 16 rounds\n",
            "CV with subsample=0.8, colsample=0.7\n",
            "[05:53:02] WARNING: /workspace/src/objective/regression_obj.cu:152: reg:linear is now deprecated in favor of reg:squarederror.\n",
            "[05:53:02] WARNING: /workspace/src/objective/regression_obj.cu:152: reg:linear is now deprecated in favor of reg:squarederror.\n",
            "[05:53:02] WARNING: /workspace/src/objective/regression_obj.cu:152: reg:linear is now deprecated in favor of reg:squarederror.\n",
            "[05:53:02] WARNING: /workspace/src/objective/regression_obj.cu:152: reg:linear is now deprecated in favor of reg:squarederror.\n",
            "[05:53:02] WARNING: /workspace/src/objective/regression_obj.cu:152: reg:linear is now deprecated in favor of reg:squarederror.\n",
            "\tMAE 3.8116113999999994 for 16 rounds\n",
            "CV with subsample=0.7, colsample=1.0\n",
            "[05:53:03] WARNING: /workspace/src/objective/regression_obj.cu:152: reg:linear is now deprecated in favor of reg:squarederror.\n",
            "[05:53:03] WARNING: /workspace/src/objective/regression_obj.cu:152: reg:linear is now deprecated in favor of reg:squarederror.\n",
            "[05:53:03] WARNING: /workspace/src/objective/regression_obj.cu:152: reg:linear is now deprecated in favor of reg:squarederror.\n",
            "[05:53:03] WARNING: /workspace/src/objective/regression_obj.cu:152: reg:linear is now deprecated in favor of reg:squarederror.\n",
            "[05:53:03] WARNING: /workspace/src/objective/regression_obj.cu:152: reg:linear is now deprecated in favor of reg:squarederror.\n",
            "\tMAE 3.7942428 for 7 rounds\n",
            "CV with subsample=0.7, colsample=0.9\n",
            "[05:53:03] WARNING: /workspace/src/objective/regression_obj.cu:152: reg:linear is now deprecated in favor of reg:squarederror.\n",
            "[05:53:03] WARNING: /workspace/src/objective/regression_obj.cu:152: reg:linear is now deprecated in favor of reg:squarederror.\n",
            "[05:53:03] WARNING: /workspace/src/objective/regression_obj.cu:152: reg:linear is now deprecated in favor of reg:squarederror.\n",
            "[05:53:03] WARNING: /workspace/src/objective/regression_obj.cu:152: reg:linear is now deprecated in favor of reg:squarederror.\n",
            "[05:53:03] WARNING: /workspace/src/objective/regression_obj.cu:152: reg:linear is now deprecated in favor of reg:squarederror.\n",
            "\tMAE 3.7898702 for 9 rounds\n",
            "CV with subsample=0.7, colsample=0.8\n",
            "[05:53:03] WARNING: /workspace/src/objective/regression_obj.cu:152: reg:linear is now deprecated in favor of reg:squarederror.\n",
            "[05:53:03] WARNING: /workspace/src/objective/regression_obj.cu:152: reg:linear is now deprecated in favor of reg:squarederror.\n",
            "[05:53:03] WARNING: /workspace/src/objective/regression_obj.cu:152: reg:linear is now deprecated in favor of reg:squarederror.\n",
            "[05:53:03] WARNING: /workspace/src/objective/regression_obj.cu:152: reg:linear is now deprecated in favor of reg:squarederror.\n",
            "[05:53:03] WARNING: /workspace/src/objective/regression_obj.cu:152: reg:linear is now deprecated in favor of reg:squarederror.\n",
            "\tMAE 3.832002 for 31 rounds\n",
            "CV with subsample=0.7, colsample=0.7\n",
            "[05:53:04] WARNING: /workspace/src/objective/regression_obj.cu:152: reg:linear is now deprecated in favor of reg:squarederror.\n",
            "[05:53:04] WARNING: /workspace/src/objective/regression_obj.cu:152: reg:linear is now deprecated in favor of reg:squarederror.\n",
            "[05:53:04] WARNING: /workspace/src/objective/regression_obj.cu:152: reg:linear is now deprecated in favor of reg:squarederror.\n",
            "[05:53:04] WARNING: /workspace/src/objective/regression_obj.cu:152: reg:linear is now deprecated in favor of reg:squarederror.\n",
            "[05:53:04] WARNING: /workspace/src/objective/regression_obj.cu:152: reg:linear is now deprecated in favor of reg:squarederror.\n",
            "\tMAE 3.832002 for 31 rounds\n",
            "Best params: 1.0, 1.0, MAE: 3.7518520000000004\n"
          ],
          "name": "stdout"
        }
      ]
    },
    {
      "cell_type": "code",
      "metadata": {
        "id": "I8haTtVhMmuD"
      },
      "source": [
        "params['subsample'] = 1.0\n",
        "params['colsample_bytree'] = 1.0"
      ],
      "execution_count": null,
      "outputs": []
    },
    {
      "cell_type": "markdown",
      "metadata": {
        "id": "QxGv-9uLEDPj"
      },
      "source": [
        "**eta**"
      ]
    },
    {
      "cell_type": "code",
      "metadata": {
        "colab": {
          "base_uri": "https://localhost:8080/"
        },
        "id": "TEeQ5mBLMmuD",
        "outputId": "0460ae32-75ff-4aa5-98e6-b168de7d6380"
      },
      "source": [
        "%time\n",
        "# This can take some time…\n",
        "min_mae = float(\"Inf\")\n",
        "best_params = None\n",
        "for eta in [.3, .2, .1, .05, .01, .005]:\n",
        "    print(\"CV with eta={}\".format(eta))\n",
        "    # We update our parameters\n",
        "    params['eta'] = eta\n",
        "    # Run and time CV\n",
        "    cv_results = xgb.cv(\n",
        "            params,\n",
        "            dtrain,\n",
        "            num_boost_round=num_boost_round,\n",
        "            seed=42,\n",
        "            nfold=5,\n",
        "            metrics=['mae'],\n",
        "            early_stopping_rounds=10\n",
        "          )\n",
        "    # Update best score\n",
        "    mean_mae = cv_results['test-mae-mean'].min()\n",
        "    boost_rounds = cv_results['test-mae-mean'].argmin()\n",
        "    print(\"\\tMAE {} for {} rounds\\n\".format(mean_mae, boost_rounds))\n",
        "    if mean_mae < min_mae:\n",
        "        min_mae = mean_mae\n",
        "        best_params = eta\n",
        "print(\"Best params: {}, MAE: {}\".format(best_params, min_mae))\n",
        "print(\"Best params: {}, MAE: {}\".format(best_params, min_mae))"
      ],
      "execution_count": null,
      "outputs": [
        {
          "output_type": "stream",
          "text": [
            "CPU times: user 4 µs, sys: 0 ns, total: 4 µs\n",
            "Wall time: 6.44 µs\n",
            "CV with eta=0.3\n",
            "[05:53:05] WARNING: /workspace/src/objective/regression_obj.cu:152: reg:linear is now deprecated in favor of reg:squarederror.\n",
            "[05:53:05] WARNING: /workspace/src/objective/regression_obj.cu:152: reg:linear is now deprecated in favor of reg:squarederror.\n",
            "[05:53:05] WARNING: /workspace/src/objective/regression_obj.cu:152: reg:linear is now deprecated in favor of reg:squarederror.\n",
            "[05:53:05] WARNING: /workspace/src/objective/regression_obj.cu:152: reg:linear is now deprecated in favor of reg:squarederror.\n",
            "[05:53:05] WARNING: /workspace/src/objective/regression_obj.cu:152: reg:linear is now deprecated in favor of reg:squarederror.\n",
            "\tMAE 3.7518520000000004 for 9 rounds\n",
            "\n",
            "CV with eta=0.2\n",
            "[05:53:05] WARNING: /workspace/src/objective/regression_obj.cu:152: reg:linear is now deprecated in favor of reg:squarederror.\n",
            "[05:53:05] WARNING: /workspace/src/objective/regression_obj.cu:152: reg:linear is now deprecated in favor of reg:squarederror.\n",
            "[05:53:05] WARNING: /workspace/src/objective/regression_obj.cu:152: reg:linear is now deprecated in favor of reg:squarederror.\n",
            "[05:53:05] WARNING: /workspace/src/objective/regression_obj.cu:152: reg:linear is now deprecated in favor of reg:squarederror.\n",
            "[05:53:05] WARNING: /workspace/src/objective/regression_obj.cu:152: reg:linear is now deprecated in favor of reg:squarederror.\n",
            "\tMAE 3.7418673999999994 for 15 rounds\n",
            "\n",
            "CV with eta=0.1\n",
            "[05:53:05] WARNING: /workspace/src/objective/regression_obj.cu:152: reg:linear is now deprecated in favor of reg:squarederror.\n",
            "[05:53:05] WARNING: /workspace/src/objective/regression_obj.cu:152: reg:linear is now deprecated in favor of reg:squarederror.\n",
            "[05:53:05] WARNING: /workspace/src/objective/regression_obj.cu:152: reg:linear is now deprecated in favor of reg:squarederror.\n",
            "[05:53:05] WARNING: /workspace/src/objective/regression_obj.cu:152: reg:linear is now deprecated in favor of reg:squarederror.\n",
            "[05:53:05] WARNING: /workspace/src/objective/regression_obj.cu:152: reg:linear is now deprecated in favor of reg:squarederror.\n",
            "\tMAE 3.7470436 for 32 rounds\n",
            "\n",
            "CV with eta=0.05\n",
            "[05:53:06] WARNING: /workspace/src/objective/regression_obj.cu:152: reg:linear is now deprecated in favor of reg:squarederror.\n",
            "[05:53:06] WARNING: /workspace/src/objective/regression_obj.cu:152: reg:linear is now deprecated in favor of reg:squarederror.\n",
            "[05:53:06] WARNING: /workspace/src/objective/regression_obj.cu:152: reg:linear is now deprecated in favor of reg:squarederror.\n",
            "[05:53:06] WARNING: /workspace/src/objective/regression_obj.cu:152: reg:linear is now deprecated in favor of reg:squarederror.\n",
            "[05:53:06] WARNING: /workspace/src/objective/regression_obj.cu:152: reg:linear is now deprecated in favor of reg:squarederror.\n",
            "\tMAE 3.7511424 for 68 rounds\n",
            "\n",
            "CV with eta=0.01\n",
            "[05:53:07] WARNING: /workspace/src/objective/regression_obj.cu:152: reg:linear is now deprecated in favor of reg:squarederror.\n",
            "[05:53:07] WARNING: /workspace/src/objective/regression_obj.cu:152: reg:linear is now deprecated in favor of reg:squarederror.\n",
            "[05:53:07] WARNING: /workspace/src/objective/regression_obj.cu:152: reg:linear is now deprecated in favor of reg:squarederror.\n",
            "[05:53:07] WARNING: /workspace/src/objective/regression_obj.cu:152: reg:linear is now deprecated in favor of reg:squarederror.\n",
            "[05:53:07] WARNING: /workspace/src/objective/regression_obj.cu:152: reg:linear is now deprecated in favor of reg:squarederror.\n",
            "\tMAE 3.7501106 for 337 rounds\n",
            "\n",
            "CV with eta=0.005\n",
            "[05:53:12] WARNING: /workspace/src/objective/regression_obj.cu:152: reg:linear is now deprecated in favor of reg:squarederror.\n",
            "[05:53:12] WARNING: /workspace/src/objective/regression_obj.cu:152: reg:linear is now deprecated in favor of reg:squarederror.\n",
            "[05:53:12] WARNING: /workspace/src/objective/regression_obj.cu:152: reg:linear is now deprecated in favor of reg:squarederror.\n",
            "[05:53:12] WARNING: /workspace/src/objective/regression_obj.cu:152: reg:linear is now deprecated in favor of reg:squarederror.\n",
            "[05:53:12] WARNING: /workspace/src/objective/regression_obj.cu:152: reg:linear is now deprecated in favor of reg:squarederror.\n",
            "\tMAE 3.7495904 for 679 rounds\n",
            "\n",
            "Best params: 0.2, MAE: 3.7418673999999994\n",
            "Best params: 0.2, MAE: 3.7418673999999994\n"
          ],
          "name": "stdout"
        }
      ]
    },
    {
      "cell_type": "code",
      "metadata": {
        "id": "xy22-d8zMmuD"
      },
      "source": [
        "params['eta'] = .2"
      ],
      "execution_count": null,
      "outputs": []
    },
    {
      "cell_type": "code",
      "metadata": {
        "colab": {
          "base_uri": "https://localhost:8080/"
        },
        "id": "yyUSPKFDMmuD",
        "outputId": "5e2c0c9f-88a8-42ac-b20a-fa9f933609b6"
      },
      "source": [
        "params\n",
        "{'colsample_bytree': 1.0,\n",
        " 'eta': 0.2,\n",
        " 'eval_metric': 'mae',\n",
        " 'max_depth': 11,\n",
        " 'min_child_weight': 5,\n",
        " 'objective': 'reg:linear',\n",
        " 'subsample': 1.0}"
      ],
      "execution_count": null,
      "outputs": [
        {
          "output_type": "execute_result",
          "data": {
            "text/plain": [
              "{'colsample_bytree': 1.0,\n",
              " 'eta': 0.1,\n",
              " 'eval_metric': 'mae',\n",
              " 'max_depth': 10,\n",
              " 'min_child_weight': 5,\n",
              " 'objective': 'reg:linear',\n",
              " 'subsample': 1.0}"
            ]
          },
          "metadata": {
            "tags": []
          },
          "execution_count": 88
        }
      ]
    },
    {
      "cell_type": "code",
      "metadata": {
        "colab": {
          "base_uri": "https://localhost:8080/"
        },
        "id": "v7VIwt3EMmuD",
        "outputId": "6b6ddd80-61ff-4174-e382-bc9a39d67fd9"
      },
      "source": [
        "model = xgb.train(\n",
        "    params,\n",
        "    dtrain,\n",
        "    num_boost_round=num_boost_round,\n",
        "    evals=[(dtest, \"Test\")],\n",
        "    early_stopping_rounds=10\n",
        ")"
      ],
      "execution_count": null,
      "outputs": [
        {
          "output_type": "stream",
          "text": [
            "[05:53:21] WARNING: /workspace/src/objective/regression_obj.cu:152: reg:linear is now deprecated in favor of reg:squarederror.\n",
            "[0]\tTest-mae:6.42045\n",
            "Will train until Test-mae hasn't improved in 10 rounds.\n",
            "[1]\tTest-mae:5.94714\n",
            "[2]\tTest-mae:5.54793\n",
            "[3]\tTest-mae:5.20838\n",
            "[4]\tTest-mae:4.94956\n",
            "[5]\tTest-mae:4.72055\n",
            "[6]\tTest-mae:4.53018\n",
            "[7]\tTest-mae:4.36821\n",
            "[8]\tTest-mae:4.2359\n",
            "[9]\tTest-mae:4.11733\n",
            "[10]\tTest-mae:4.01878\n",
            "[11]\tTest-mae:3.93223\n",
            "[12]\tTest-mae:3.85757\n",
            "[13]\tTest-mae:3.79281\n",
            "[14]\tTest-mae:3.73729\n",
            "[15]\tTest-mae:3.70004\n",
            "[16]\tTest-mae:3.66566\n",
            "[17]\tTest-mae:3.63755\n",
            "[18]\tTest-mae:3.611\n",
            "[19]\tTest-mae:3.58943\n",
            "[20]\tTest-mae:3.57449\n",
            "[21]\tTest-mae:3.56018\n",
            "[22]\tTest-mae:3.5492\n",
            "[23]\tTest-mae:3.53695\n",
            "[24]\tTest-mae:3.52615\n",
            "[25]\tTest-mae:3.51987\n",
            "[26]\tTest-mae:3.51284\n",
            "[27]\tTest-mae:3.50844\n",
            "[28]\tTest-mae:3.50471\n",
            "[29]\tTest-mae:3.50055\n",
            "[30]\tTest-mae:3.49803\n",
            "[31]\tTest-mae:3.49472\n",
            "[32]\tTest-mae:3.49323\n",
            "[33]\tTest-mae:3.49074\n",
            "[34]\tTest-mae:3.48921\n",
            "[35]\tTest-mae:3.49192\n",
            "[36]\tTest-mae:3.49191\n",
            "[37]\tTest-mae:3.49303\n",
            "[38]\tTest-mae:3.49241\n",
            "[39]\tTest-mae:3.49475\n",
            "[40]\tTest-mae:3.49299\n",
            "[41]\tTest-mae:3.49165\n",
            "[42]\tTest-mae:3.49126\n",
            "[43]\tTest-mae:3.49131\n",
            "[44]\tTest-mae:3.48941\n",
            "Stopping. Best iteration:\n",
            "[34]\tTest-mae:3.48921\n",
            "\n"
          ],
          "name": "stdout"
        }
      ]
    },
    {
      "cell_type": "code",
      "metadata": {
        "colab": {
          "base_uri": "https://localhost:8080/"
        },
        "id": "JCWj4nKhMmuD",
        "outputId": "7660e960-33d3-4102-cd66-0f45db80d2c8"
      },
      "source": [
        "# Finding the best XGBoost model\n",
        "num_boost_round = model.best_iteration + 1\n",
        "best_model = xgb.train(\n",
        "    params,\n",
        "    dtrain,\n",
        "    num_boost_round=num_boost_round,\n",
        "    evals=[(dtest, \"Test\")]\n",
        ")"
      ],
      "execution_count": null,
      "outputs": [
        {
          "output_type": "stream",
          "text": [
            "[05:53:21] WARNING: /workspace/src/objective/regression_obj.cu:152: reg:linear is now deprecated in favor of reg:squarederror.\n",
            "[0]\tTest-mae:6.42045\n",
            "[1]\tTest-mae:5.94714\n",
            "[2]\tTest-mae:5.54793\n",
            "[3]\tTest-mae:5.20838\n",
            "[4]\tTest-mae:4.94956\n",
            "[5]\tTest-mae:4.72055\n",
            "[6]\tTest-mae:4.53018\n",
            "[7]\tTest-mae:4.36821\n",
            "[8]\tTest-mae:4.2359\n",
            "[9]\tTest-mae:4.11733\n",
            "[10]\tTest-mae:4.01878\n",
            "[11]\tTest-mae:3.93223\n",
            "[12]\tTest-mae:3.85757\n",
            "[13]\tTest-mae:3.79281\n",
            "[14]\tTest-mae:3.73729\n",
            "[15]\tTest-mae:3.70004\n",
            "[16]\tTest-mae:3.66566\n",
            "[17]\tTest-mae:3.63755\n",
            "[18]\tTest-mae:3.611\n",
            "[19]\tTest-mae:3.58943\n",
            "[20]\tTest-mae:3.57449\n",
            "[21]\tTest-mae:3.56018\n",
            "[22]\tTest-mae:3.5492\n",
            "[23]\tTest-mae:3.53695\n",
            "[24]\tTest-mae:3.52615\n",
            "[25]\tTest-mae:3.51987\n",
            "[26]\tTest-mae:3.51284\n",
            "[27]\tTest-mae:3.50844\n",
            "[28]\tTest-mae:3.50471\n",
            "[29]\tTest-mae:3.50055\n",
            "[30]\tTest-mae:3.49803\n",
            "[31]\tTest-mae:3.49472\n",
            "[32]\tTest-mae:3.49323\n",
            "[33]\tTest-mae:3.49074\n",
            "[34]\tTest-mae:3.48921\n"
          ],
          "name": "stdout"
        }
      ]
    },
    {
      "cell_type": "markdown",
      "metadata": {
        "id": "FGDMYUdVAgMu"
      },
      "source": [
        "### Random Forest"
      ]
    },
    {
      "cell_type": "code",
      "metadata": {
        "id": "RF-jKR6nWY-H",
        "colab": {
          "base_uri": "https://localhost:8080/"
        },
        "outputId": "32f88e9e-c421-4c60-9eae-236e89150633"
      },
      "source": [
        "from sklearn.model_selection import GridSearchCV\n",
        "\n",
        "param_grid = [\n",
        "{'n_estimators': [10,100,200], 'max_depth': [10, 200, 1500], 'bootstrap': [True, False]}\n",
        "]\n",
        "\n",
        "grid_search_forest = GridSearchCV(forest, param_grid, cv=10, scoring='neg_mean_squared_error')\n",
        "grid_search_forest.fit(x5_train, y5_train)"
      ],
      "execution_count": null,
      "outputs": [
        {
          "output_type": "execute_result",
          "data": {
            "text/plain": [
              "GridSearchCV(cv=10, error_score=nan,\n",
              "             estimator=RandomForestRegressor(bootstrap=True, ccp_alpha=0.0,\n",
              "                                             criterion='mse', max_depth=None,\n",
              "                                             max_features='auto',\n",
              "                                             max_leaf_nodes=None,\n",
              "                                             max_samples=None,\n",
              "                                             min_impurity_decrease=0.0,\n",
              "                                             min_impurity_split=None,\n",
              "                                             min_samples_leaf=1,\n",
              "                                             min_samples_split=2,\n",
              "                                             min_weight_fraction_leaf=0.0,\n",
              "                                             n_estimators=100, n_jobs=None,\n",
              "                                             oob_score=False, random_state=None,\n",
              "                                             verbose=0, warm_start=False),\n",
              "             iid='deprecated', n_jobs=None,\n",
              "             param_grid=[{'bootstrap': [True, False],\n",
              "                          'max_depth': [10, 200, 1500],\n",
              "                          'n_estimators': [10, 100, 200]}],\n",
              "             pre_dispatch='2*n_jobs', refit=True, return_train_score=False,\n",
              "             scoring='neg_mean_squared_error', verbose=0)"
            ]
          },
          "metadata": {
            "tags": []
          },
          "execution_count": 92
        }
      ]
    },
    {
      "cell_type": "code",
      "metadata": {
        "id": "abqFPAGCZdAH",
        "colab": {
          "base_uri": "https://localhost:8080/"
        },
        "outputId": "5a004d53-93bd-419c-afb4-f58f72747882"
      },
      "source": [
        "grid_search_forest.best_estimator_"
      ],
      "execution_count": null,
      "outputs": [
        {
          "output_type": "execute_result",
          "data": {
            "text/plain": [
              "RandomForestRegressor(bootstrap=True, ccp_alpha=0.0, criterion='mse',\n",
              "                      max_depth=10, max_features='auto', max_leaf_nodes=None,\n",
              "                      max_samples=None, min_impurity_decrease=0.0,\n",
              "                      min_impurity_split=None, min_samples_leaf=1,\n",
              "                      min_samples_split=2, min_weight_fraction_leaf=0.0,\n",
              "                      n_estimators=200, n_jobs=None, oob_score=False,\n",
              "                      random_state=None, verbose=0, warm_start=False)"
            ]
          },
          "metadata": {
            "tags": []
          },
          "execution_count": 93
        }
      ]
    },
    {
      "cell_type": "code",
      "metadata": {
        "id": "fJRVvHmmZxEI",
        "colab": {
          "base_uri": "https://localhost:8080/"
        },
        "outputId": "722e7113-3a12-4ff8-d8f9-bd3f0a653198"
      },
      "source": [
        "grid_search_forest.best_estimator_.fit(x5_train,y5_train)"
      ],
      "execution_count": null,
      "outputs": [
        {
          "output_type": "execute_result",
          "data": {
            "text/plain": [
              "RandomForestRegressor(bootstrap=True, ccp_alpha=0.0, criterion='mse',\n",
              "                      max_depth=10, max_features='auto', max_leaf_nodes=None,\n",
              "                      max_samples=None, min_impurity_decrease=0.0,\n",
              "                      min_impurity_split=None, min_samples_leaf=1,\n",
              "                      min_samples_split=2, min_weight_fraction_leaf=0.0,\n",
              "                      n_estimators=200, n_jobs=None, oob_score=False,\n",
              "                      random_state=None, verbose=0, warm_start=False)"
            ]
          },
          "metadata": {
            "tags": []
          },
          "execution_count": 94
        }
      ]
    },
    {
      "cell_type": "code",
      "metadata": {
        "id": "eRp7DLAHa3HA",
        "colab": {
          "base_uri": "https://localhost:8080/"
        },
        "outputId": "e8d4f517-4aa7-4b2d-ccb1-4a9e444307fb"
      },
      "source": [
        "forest1 = RandomForestRegressor(bootstrap=True, ccp_alpha=0.0, criterion='mae',\n",
        "                      max_depth=200, max_features='auto', max_leaf_nodes=1500,\n",
        "                      max_samples=None, min_impurity_decrease=0.0,\n",
        "                      min_impurity_split=None, min_samples_leaf=1,\n",
        "                      min_samples_split=19, min_weight_fraction_leaf=0.0,\n",
        "                      n_estimators=400, n_jobs=-1, oob_score=False,\n",
        "                      random_state=90, verbose=0, warm_start=False)\n",
        "y7_pred = forest1.fit(x5_train,y5_train).predict(x5_test)\n",
        "print(mean_absolute_error(y7_pred,y5_test))"
      ],
      "execution_count": null,
      "outputs": [
        {
          "output_type": "stream",
          "text": [
            "3.192540322580645\n"
          ],
          "name": "stdout"
        }
      ]
    },
    {
      "cell_type": "markdown",
      "metadata": {
        "id": "jBF7PCRE2qqY"
      },
      "source": [
        "# Conclusion"
      ]
    },
    {
      "cell_type": "markdown",
      "metadata": {
        "id": "UnwHk5Sl3lpO"
      },
      "source": [
        "The baseline model used was Linear Regression which had a MAE of 5.33. We later used Random Forest to get the important features and it had an MAE of 3.51. XGBoost was also used and had an MAE of 4.95 and 3.489 after hyperparameter tuning. Grid search was used on Random Forest and after tweaking our parameters we had our best MAE at 3.19. This was close to the winning MAE which was at 3.00\n"
      ]
    }
  ]
}